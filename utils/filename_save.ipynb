{
 "cells": [
  {
   "cell_type": "code",
   "execution_count": 37,
   "metadata": {},
   "outputs": [],
   "source": [
    "import os\n",
    "from tqdm import tqdm"
   ]
  },
  {
   "cell_type": "code",
   "execution_count": 41,
   "metadata": {},
   "outputs": [
    {
     "name": "stderr",
     "output_type": "stream",
     "text": [
      "100%|██████████| 580/580 [00:00<00:00, 989303.10it/s]\n"
     ]
    }
   ],
   "source": [
    "# png 파일이 들어있는 디렉토리 경로\n",
    "directory_path = \"/home/user/WindowsShare/05. Data/00. Benchmarks/27. crackseg9k/part/crack500_305/leftImg8bit/val\"\n",
    "\n",
    "# 디렉토리 내의 png 파일 목록 가져오기\n",
    "png_files = [file for file in os.listdir(directory_path) if file.startswith('CRACK500')]\n",
    "\n",
    "# 파일명을 저장할 텍스트 파일 경로\n",
    "output_file_path = \"/home/user/weak-da-seg-new/weak-da-seg/data/crack500_305_s_list/val.txt\"\n",
    "\n",
    "# 텍스트 파일 열기 (새로운 파일 생성 또는 이미 존재하는 파일 열기)\n",
    "with open(output_file_path, 'w') as txt_file:\n",
    "    # png 파일명을 한 줄에 하나씩 쓰기\n",
    "    for png_file in tqdm(png_files):\n",
    "        txt_file.write(png_file + '\\n')"
   ]
  },
  {
   "cell_type": "code",
   "execution_count": null,
   "metadata": {},
   "outputs": [],
   "source": []
  }
 ],
 "metadata": {
  "kernelspec": {
   "display_name": "Python 3.7.16 ('mmseg2')",
   "language": "python",
   "name": "python3"
  },
  "language_info": {
   "codemirror_mode": {
    "name": "ipython",
    "version": 3
   },
   "file_extension": ".py",
   "mimetype": "text/x-python",
   "name": "python",
   "nbconvert_exporter": "python",
   "pygments_lexer": "ipython3",
   "version": "3.7.16"
  },
  "orig_nbformat": 4,
  "vscode": {
   "interpreter": {
    "hash": "2086e71761e0346d1b2ba579c50f43c8a7cc145636f342809f163fcf7c3af47c"
   }
  }
 },
 "nbformat": 4,
 "nbformat_minor": 2
}
