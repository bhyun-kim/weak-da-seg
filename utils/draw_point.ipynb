{
 "cells": [
  {
   "cell_type": "code",
   "execution_count": 41,
   "metadata": {},
   "outputs": [],
   "source": [
    "from PIL import Image, ImageDraw\n",
    "\n",
    "# 이미지 불러오기\n",
    "image_path = \"/home/user/WindowsShare/05. Data/00. Benchmarks/22. KhanhhaCrack/02. Convert To Cityscapes Dataset/leftImg8bit/train/CFD_046_leftImg8bit.png\"  # 이미지 파일 경로를 지정하세요\n",
    "image = Image.open(image_path)\n",
    "\n",
    "# 좌표 선택\n",
    "x0, y0 = 195, 142  # 원하는 좌표를 지정하세요\n",
    "x1, y1 = 482, 485\n",
    "\n",
    "# 이미지에 점 그리기\n",
    "draw = ImageDraw.Draw(image)\n",
    "point_color0 = (0, 0, 255)\n",
    "point_color1 = (255, 0, 0)\n",
    "point_size = 1\n",
    "draw.ellipse([x0 - point_size, y0 - point_size, x0 + point_size, y0 + point_size], fill=point_color0)\n",
    "draw.ellipse([x1 - point_size, y1 - point_size, x1 + point_size, y1 + point_size], fill=point_color1)\n",
    "\n",
    "# 이미지 저장 또는 표시\n",
    "image.show()  # 이미지를 보려면"
   ]
  },
  {
   "cell_type": "code",
   "execution_count": null,
   "metadata": {},
   "outputs": [],
   "source": []
  }
 ],
 "metadata": {
  "kernelspec": {
   "display_name": "Python 3.7.16 ('mmseg2')",
   "language": "python",
   "name": "python3"
  },
  "language_info": {
   "codemirror_mode": {
    "name": "ipython",
    "version": 3
   },
   "file_extension": ".py",
   "mimetype": "text/x-python",
   "name": "python",
   "nbconvert_exporter": "python",
   "pygments_lexer": "ipython3",
   "version": "3.7.16"
  },
  "orig_nbformat": 4,
  "vscode": {
   "interpreter": {
    "hash": "2086e71761e0346d1b2ba579c50f43c8a7cc145636f342809f163fcf7c3af47c"
   }
  }
 },
 "nbformat": 4,
 "nbformat_minor": 2
}
