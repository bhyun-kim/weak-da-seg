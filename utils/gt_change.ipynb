{
 "cells": [
  {
   "cell_type": "code",
   "execution_count": 1,
   "metadata": {},
   "outputs": [],
   "source": [
    "from PIL import Image\n",
    "import numpy as np\n",
    "import os"
   ]
  },
  {
   "cell_type": "code",
   "execution_count": 2,
   "metadata": {},
   "outputs": [],
   "source": [
    "def convert_image(input_folder, save_folder):\n",
    "    for filename in os.listdir(input_folder):\n",
    "        if filename.endswith(\"_gtFine_labelIds.png\"):\n",
    "            input_path = os.path.join(input_folder, filename)\n",
    "            # Load the image\n",
    "            image = Image.open(input_path)\n",
    "            # Convert the image to a numpy array\n",
    "            data = np.array(image)\n",
    "            # Perform the conversion\n",
    "            data = (data / 255).astype(np.uint8)\n",
    "            # Convert the numpy array back to an image\n",
    "            new_image = Image.fromarray(data)\n",
    "            # Save the converted image\n",
    "            output_path = os.path.join(save_folder, filename)\n",
    "            new_image.save(output_path)"
   ]
  },
  {
   "cell_type": "code",
   "execution_count": 3,
   "metadata": {},
   "outputs": [],
   "source": [
    "convert_image('/home/user/WindowsShare/05. Data/00. Benchmarks/26. Crack_Yang/gtFine/_train', '/home/user/WindowsShare/05. Data/00. Benchmarks/26. Crack_Yang/gtFine/train')"
   ]
  },
  {
   "cell_type": "code",
   "execution_count": null,
   "metadata": {},
   "outputs": [],
   "source": []
  }
 ],
 "metadata": {
  "kernelspec": {
   "display_name": "Python 3.7.16 ('mmseg2')",
   "language": "python",
   "name": "python3"
  },
  "language_info": {
   "codemirror_mode": {
    "name": "ipython",
    "version": 3
   },
   "file_extension": ".py",
   "mimetype": "text/x-python",
   "name": "python",
   "nbconvert_exporter": "python",
   "pygments_lexer": "ipython3",
   "version": "3.7.16"
  },
  "orig_nbformat": 4,
  "vscode": {
   "interpreter": {
    "hash": "2086e71761e0346d1b2ba579c50f43c8a7cc145636f342809f163fcf7c3af47c"
   }
  }
 },
 "nbformat": 4,
 "nbformat_minor": 2
}
