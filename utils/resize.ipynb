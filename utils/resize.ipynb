{
 "cells": [
  {
   "cell_type": "code",
   "execution_count": 10,
   "metadata": {},
   "outputs": [],
   "source": [
    "import os\n",
    "from PIL import Image"
   ]
  },
  {
   "cell_type": "code",
   "execution_count": 11,
   "metadata": {},
   "outputs": [],
   "source": [
    "root_dir = \"/home/user/WindowsShare/05. Data/00. Benchmarks/27. crackseg9k/convert2cityscapes\"\n",
    "img_dir = os.path.join(root_dir, 'leftImg8bit')\n",
    "\n",
    "save_dir = \"/home/user/WindowsShare/05. Data/00. Benchmarks/27. crackseg9k/resize\""
   ]
  },
  {
   "cell_type": "code",
   "execution_count": 12,
   "metadata": {},
   "outputs": [],
   "source": [
    "subfolders = [f for f in os.listdir(img_dir) if os.path.isdir(os.path.join(img_dir, f))]"
   ]
  },
  {
   "cell_type": "code",
   "execution_count": 13,
   "metadata": {},
   "outputs": [],
   "source": [
    "size = (448,448)"
   ]
  },
  {
   "cell_type": "code",
   "execution_count": 18,
   "metadata": {},
   "outputs": [
    {
     "name": "stdout",
     "output_type": "stream",
     "text": [
      "1129\n",
      "282\n"
     ]
    }
   ],
   "source": [
    "# 각 하위 폴더에서 이미지 처리\n",
    "for subfolder in subfolders:\n",
    "    subfolder_path = os.path.join(img_dir, subfolder)\n",
    "    # 각 폴더 내의 모든 파일 리스트 가져오기\n",
    "    file_list = os.listdir(subfolder_path)\n",
    "    # 파일 선택\n",
    "    files = [f for f in file_list if f.startswith('noncrack')]\n",
    "    print(len(files))\n",
    "\n",
    "    for file in files:\n",
    "        img_path = os.path.join(subfolder_path, file)\n",
    "        gt_path = img_path.replace('_leftImg8bit.png', '_gtFine_labelIds.png')\n",
    "        gt_path = gt_path.replace('leftImg8bit', 'gtFine')\n",
    "\n",
    "        image = Image.open(img_path)\n",
    "        gt = Image.open(gt_path)\n",
    "\n",
    "        resized_image = image.resize(size, Image.BICUBIC)\n",
    "        resized_gt = gt.resize(size, Image.NEAREST)\n",
    "\n",
    "        img_save_path = img_path.replace(root_dir, save_dir)\n",
    "        gt_save_path = gt_path.replace(root_dir, save_dir)\n",
    "\n",
    "        # 저장할 경로의 디렉토리 확인\n",
    "        img_save_dir = os.path.dirname(img_save_path)\n",
    "        gt_save_dir = os.path.dirname(gt_save_path)\n",
    "        \n",
    "        # 디렉토리가 존재하지 않는 경우, 생성\n",
    "        if not os.path.exists(img_save_dir):\n",
    "            print('no image dir')\n",
    "            os.makedirs(img_save_dir)\n",
    "        if not os.path.exists(gt_save_dir):\n",
    "            print('no gt path')\n",
    "            os.makedirs(gt_save_path)\n",
    "\n",
    "        resized_image.save(img_save_path)\n",
    "        resized_gt.save(gt_save_path)\n",
    "        "
   ]
  },
  {
   "cell_type": "code",
   "execution_count": null,
   "metadata": {},
   "outputs": [],
   "source": []
  }
 ],
 "metadata": {
  "kernelspec": {
   "display_name": "Python 3.7.16 ('mmseg2')",
   "language": "python",
   "name": "python3"
  },
  "language_info": {
   "codemirror_mode": {
    "name": "ipython",
    "version": 3
   },
   "file_extension": ".py",
   "mimetype": "text/x-python",
   "name": "python",
   "nbconvert_exporter": "python",
   "pygments_lexer": "ipython3",
   "version": "3.7.16"
  },
  "orig_nbformat": 4,
  "vscode": {
   "interpreter": {
    "hash": "2086e71761e0346d1b2ba579c50f43c8a7cc145636f342809f163fcf7c3af47c"
   }
  }
 },
 "nbformat": 4,
 "nbformat_minor": 2
}
