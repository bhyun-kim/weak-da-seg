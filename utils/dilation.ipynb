{
 "cells": [
  {
   "cell_type": "code",
   "execution_count": 1,
   "metadata": {},
   "outputs": [],
   "source": [
    "import cv2\n",
    "import os\n",
    "import numpy as np\n",
    "import tqdm"
   ]
  },
  {
   "cell_type": "code",
   "execution_count": 5,
   "metadata": {},
   "outputs": [],
   "source": [
    "# 원본 폴더와 목표 폴더 경로 설정\n",
    "original_folder = '/home/user/WindowsShare/05. Data/00. Benchmarks/23. KaggleCrack/06. dilation/original_gtFine'\n",
    "new_folder = '/home/user/WindowsShare/05. Data/00. Benchmarks/23. KaggleCrack/06. dilation/gtFine'"
   ]
  },
  {
   "cell_type": "code",
   "execution_count": 6,
   "metadata": {},
   "outputs": [],
   "source": [
    "kernel = np.ones((6,6), np.uint8)"
   ]
  },
  {
   "cell_type": "code",
   "execution_count": 7,
   "metadata": {},
   "outputs": [
    {
     "name": "stdout",
     "output_type": "stream",
     "text": [
      "/home/user/WindowsShare/05. Data/00. Benchmarks/23. KaggleCrack/06. dilation/original_gtFine ['train', 'val']\n",
      "/home/user/WindowsShare/05. Data/00. Benchmarks/23. KaggleCrack/06. dilation/original_gtFine/train []\n",
      "/home/user/WindowsShare/05. Data/00. Benchmarks/23. KaggleCrack/06. dilation/original_gtFine/val []\n"
     ]
    }
   ],
   "source": [
    "for subdir, dirs, files in os.walk(original_folder):\n",
    "    print(subdir, dirs)\n",
    "    for file in files:\n",
    "        if file.endswith(\"_gtFine_labelIds.png\"):\n",
    "            # 원본 파일 경로\n",
    "            source_file_path = os.path.join(subdir, file)\n",
    "            # print(source_file_path)\n",
    "            \n",
    "            # 이미지 불러오기\n",
    "            image = cv2.imread(source_file_path, cv2.IMREAD_GRAYSCALE)  # 균열 이미지는 흑백으로 가정\n",
    "            \n",
    "            # dilation(팽창) 연산 적용\n",
    "            dilated_image = cv2.dilate(image, kernel, iterations=1)\n",
    "            \n",
    "            # 타겟 폴더 경로 구성\n",
    "            # _gtFine을 gtFine으로 변경\n",
    "            target_subdir = subdir.replace(original_folder, new_folder)\n",
    "            target_file_path = os.path.join(target_subdir, file)\n",
    "            \n",
    "            # 타겟 하위 폴더가 존재하지 않으면 생성\n",
    "            os.makedirs(target_subdir, exist_ok=True)\n",
    "            \n",
    "            # 변환된 이미지 저장\n",
    "            cv2.imwrite(target_file_path, dilated_image)"
   ]
  },
  {
   "cell_type": "code",
   "execution_count": null,
   "metadata": {},
   "outputs": [],
   "source": []
  }
 ],
 "metadata": {
  "kernelspec": {
   "display_name": "Python 3.7.16 ('mmseg2')",
   "language": "python",
   "name": "python3"
  },
  "language_info": {
   "codemirror_mode": {
    "name": "ipython",
    "version": 3
   },
   "file_extension": ".py",
   "mimetype": "text/x-python",
   "name": "python",
   "nbconvert_exporter": "python",
   "pygments_lexer": "ipython3",
   "version": "3.7.16"
  },
  "orig_nbformat": 4,
  "vscode": {
   "interpreter": {
    "hash": "2086e71761e0346d1b2ba579c50f43c8a7cc145636f342809f163fcf7c3af47c"
   }
  }
 },
 "nbformat": 4,
 "nbformat_minor": 2
}
