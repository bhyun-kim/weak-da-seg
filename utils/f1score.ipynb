{
 "cells": [
  {
   "cell_type": "code",
   "execution_count": 1,
   "metadata": {},
   "outputs": [],
   "source": [
    "import os\n",
    "import os.path as osp\n",
    "from PIL import Image\n",
    "import numpy as np\n",
    "from glob import glob\n",
    "from tqdm import tqdm"
   ]
  },
  {
   "cell_type": "code",
   "execution_count": 49,
   "metadata": {},
   "outputs": [],
   "source": [
    "gt_dir = \"/home/user/WindowsShare/05. Data/00. Benchmarks/26. Crack_Yang/01.convert2cityscapes/gtFine/val\"\n",
    "infer_dir = \"/home/user/weak-da-seg-new/weak-da-seg/result/141.yang_s-yang_t-baseline\""
   ]
  },
  {
   "cell_type": "code",
   "execution_count": 51,
   "metadata": {},
   "outputs": [
    {
     "name": "stderr",
     "output_type": "stream",
     "text": [
      "100%|██████████| 129/129 [00:00<00:00, 277.78it/s]"
     ]
    },
    {
     "name": "stdout",
     "output_type": "stream",
     "text": [
      "The f1-score of crack is  59.15040005839073 %\n",
      "The precision of crack is  79.01968626935943 %\n",
      "The recall of crack is  47.26559431336934 %\n"
     ]
    },
    {
     "name": "stderr",
     "output_type": "stream",
     "text": [
      "\n"
     ]
    }
   ],
   "source": [
    "infer_list = glob(osp.join(infer_dir, '*.png'))\n",
    "\n",
    "tp = 0\n",
    "tpfp = 0\n",
    "tpfn = 0\n",
    "\n",
    "for infer_path in tqdm(infer_list):\n",
    "    infer = Image.open(infer_path)\n",
    "    infer_arr = np.array(infer)\n",
    "\n",
    "    base_name = osp.basename(infer_path)\n",
    "    base_name = base_name.replace('leftImg8bit_color', 'gtFine_labelIds')\n",
    "\n",
    "    gt_path = osp.join(gt_dir, base_name)\n",
    "    gt = Image.open(gt_path)\n",
    "    # gt = gt.resize((306,306), Image.NEAREST)\n",
    "    gt_arr = np.array(gt)\n",
    "\n",
    "    # True Positives (TP) 계산 방식 수정\n",
    "    tp_img = np.sum(np.logical_and(infer_arr == 1, gt_arr == 1))\n",
    "    tpfp_img = np.sum(infer_arr == 1)\n",
    "    tpfn_img = np.sum(gt_arr == 1)\n",
    "\n",
    "    if tpfp_img == 0:\n",
    "        # print(f'tpfp of {base_name} is zero')\n",
    "        pre_img = 0\n",
    "    else:\n",
    "        pre_img = tp_img / tpfp_img\n",
    "    \n",
    "    if tpfn_img == 0:\n",
    "        # print(f'tpfn of {base_name} is zero')\n",
    "        recall_img = 0\n",
    "    else:\n",
    "        recall_img = tp_img / tpfn_img\n",
    "\n",
    "    if tpfp_img != 0 and tpfn_img != 0 and (pre_img + recall_img) != 0:\n",
    "        f1_img = (2 * pre_img * recall_img) / (pre_img + recall_img)\n",
    "        # print(f\"F1-score of {base_name} is {f1_img}\")\n",
    "\n",
    "    tp += tp_img\n",
    "    tpfp += tpfp_img\n",
    "    tpfn += tpfn_img\n",
    "\n",
    "# 전역 Precision, Recall 및 F1-score 계산 시 분모가 0인 경우 처리 추가\n",
    "pre = tp / tpfp if tpfp > 0 else 0\n",
    "recall = tp / tpfn if tpfn > 0 else 0\n",
    "f1 = (2 * pre * recall) / (pre + recall) if (pre + recall) > 0 else 0\n",
    "\n",
    "print('The f1-score of crack is ', f1*100, '%')\n",
    "print('The precision of crack is ', pre*100, '%')\n",
    "print('The recall of crack is ', recall*100, '%')"
   ]
  },
  {
   "cell_type": "code",
   "execution_count": 3,
   "metadata": {},
   "outputs": [
    {
     "name": "stderr",
     "output_type": "stream",
     "text": [
      "  4%|▍         | 22/580 [00:00<00:02, 218.77it/s]"
     ]
    },
    {
     "name": "stdout",
     "output_type": "stream",
     "text": [
      "F1-score of CRACK500_20160222_165037_1281_721_gtFine_labelIds.png is 0.6709607325779916\n",
      "F1-score of CRACK500_20160328_153714_641_1081_gtFine_labelIds.png is 0.49629790940766555\n",
      "F1-score of CRACK500_20160306_103632_641_361_gtFine_labelIds.png is 0.5166567871962062\n",
      "F1-score of CRACK500_20160310_114459_641_1081_gtFine_labelIds.png is 0.6981331454737584\n",
      "tpfp of CRACK500_20160328_151506_641_721_gtFine_labelIds.png is zero\n",
      "F1-score of CRACK500_20160321_185637_1281_1081_gtFine_labelIds.png is 0.7585395647649641\n",
      "F1-score of CRACK500_20160328_150820_1281_721_gtFine_labelIds.png is 0.12197392923649905\n",
      "F1-score of CRACK500_20160324_170309_641_361_gtFine_labelIds.png is 0.10118333047504716\n",
      "tpfp of CRACK500_20160330_170848_1281_721_gtFine_labelIds.png is zero\n",
      "F1-score of CRACK500_20160405_171712_641_721_gtFine_labelIds.png is 0.4283524387069405\n",
      "F1-score of CRACK500_20160308_155737_1281_1081_gtFine_labelIds.png is 0.47681558331568913\n",
      "F1-score of CRACK500_20160328_150821_1281_361_gtFine_labelIds.png is 0.6075581395348838\n",
      "F1-score of CRACK500_20160329_103800_641_721_gtFine_labelIds.png is 0.6693701776422035\n",
      "F1-score of CRACK500_20160222_115324_641_721_gtFine_labelIds.png is 0.7225417693782525\n",
      "F1-score of CRACK500_20160306_104456_641_361_gtFine_labelIds.png is 0.6915702479338843\n",
      "F1-score of CRACK500_20160328_153813_1281_721_gtFine_labelIds.png is 0.7415783477008404\n",
      "F1-score of CRACK500_20160328_153533_641_1_gtFine_labelIds.png is 0.06232332750033652\n",
      "F1-score of CRACK500_20160329_104031_641_361_gtFine_labelIds.png is 0.8820809767483617\n",
      "F1-score of CRACK500_20160222_115714_1281_1081_gtFine_labelIds.png is 0.6110049675200611\n",
      "F1-score of CRACK500_20160329_101524_1281_721_gtFine_labelIds.png is 0.34929838803200736\n",
      "F1-score of CRACK500_20160326_141812_1921_721_gtFine_labelIds.png is 0.055940875497441714\n",
      "tpfp of CRACK500_20160307_163613_1921_361_gtFine_labelIds.png is zero\n",
      "F1-score of CRACK500_20160302_155857_1281_1_gtFine_labelIds.png is 0.5386883579054398\n",
      "F1-score of CRACK500_20160316_143547_1_1_gtFine_labelIds.png is 0.7351582632372248\n",
      "tpfp of CRACK500_20160325_185829_1921_721_gtFine_labelIds.png is zero\n",
      "F1-score of CRACK500_20160328_152328_1_361_gtFine_labelIds.png is 0.6369047619047619\n",
      "F1-score of CRACK500_20160329_103800_721_1921_gtFine_labelIds.png is 0.7392690224299432\n",
      "F1-score of CRACK500_20160328_151413_641_361_gtFine_labelIds.png is 0.5189035916824196\n",
      "tpfp of CRACK500_20160328_151151_641_361_gtFine_labelIds.png is zero\n",
      "F1-score of CRACK500_20160303_093537_641_361_gtFine_labelIds.png is 0.6836092329214268\n",
      "F1-score of CRACK500_20160329_104205_1_361_gtFine_labelIds.png is 0.010706638115631691\n",
      "F1-score of CRACK500_20160222_164141_1281_361_gtFine_labelIds.png is 0.42114822711837635\n",
      "F1-score of CRACK500_20160328_153813_641_721_gtFine_labelIds.png is 0.7244868714036906\n",
      "tpfp of CRACK500_20160308_073245_1281_1081_gtFine_labelIds.png is zero\n",
      "F1-score of CRACK500_20160303_091825_1921_721_gtFine_labelIds.png is 0.5302756769943889\n",
      "F1-score of CRACK500_20160308_155731_1281_721_gtFine_labelIds.png is 0.7474193548387097\n",
      "F1-score of CRACK500_20160222_163940_1281_721_gtFine_labelIds.png is 0.16492337630746776\n",
      "F1-score of CRACK500_20160316_144105_1921_1_gtFine_labelIds.png is 0.8098804362107477\n",
      "F1-score of CRACK500_20160328_150933_1281_361_gtFine_labelIds.png is 0.5533825872808923\n",
      "F1-score of CRACK500_20160303_092627_1281_361_gtFine_labelIds.png is 0.7831444061113849\n",
      "F1-score of CRACK500_20160302_155925_641_721_gtFine_labelIds.png is 0.7974718710932074\n"
     ]
    },
    {
     "name": "stderr",
     "output_type": "stream",
     "text": [
      " 11%|█         | 64/580 [00:00<00:02, 195.04it/s]"
     ]
    },
    {
     "name": "stdout",
     "output_type": "stream",
     "text": [
      "F1-score of CRACK500_20160330_170359_1921_721_gtFine_labelIds.png is 0.6517161844298797\n",
      "F1-score of CRACK500_20160302_155857_641_721_gtFine_labelIds.png is 0.3836003532231614\n",
      "F1-score of CRACK500_20160329_094507_1_361_gtFine_labelIds.png is 0.42454741693263237\n",
      "F1-score of CRACK500_20160316_144212_641_361_gtFine_labelIds.png is 0.7845429452833252\n",
      "F1-score of CRACK500_20160329_094006_1281_1_gtFine_labelIds.png is 0.7469259365170147\n",
      "F1-score of CRACK500_20160330_165644_1281_361_gtFine_labelIds.png is 0.7562557375107347\n",
      "tpfp of CRACK500_20160325_185829_1_1_gtFine_labelIds.png is zero\n",
      "F1-score of CRACK500_20160328_154011_1_1_gtFine_labelIds.png is 0.5732243871778756\n",
      "F1-score of CRACK500_20160316_144105_1281_1_gtFine_labelIds.png is 0.8219772589184967\n",
      "tpfp of CRACK500_20160308_155516_1_1_gtFine_labelIds.png is zero\n",
      "F1-score of CRACK500_20160328_150820_1_721_gtFine_labelIds.png is 0.23904083926564257\n",
      "F1-score of CRACK500_20160306_103632_641_1_gtFine_labelIds.png is 0.49967536683547586\n",
      "F1-score of CRACK500_20160405_171410_1_721_gtFine_labelIds.png is 0.6981790680086101\n",
      "F1-score of CRACK500_20160302_160033_641_361_gtFine_labelIds.png is 0.4509718595880476\n",
      "F1-score of CRACK500_20160321_185457_1281_361_gtFine_labelIds.png is 0.686782564483642\n",
      "tpfp of CRACK500_20160222_082414_1281_361_gtFine_labelIds.png is zero\n",
      "F1-score of CRACK500_20160329_104100_1281_361_gtFine_labelIds.png is 0.9135444125225839\n",
      "F1-score of CRACK500_20160222_165909_1281_361_gtFine_labelIds.png is 0.21631789325182224\n",
      "F1-score of CRACK500_20160222_164000_641_721_gtFine_labelIds.png is 0.2707816377171216\n",
      "F1-score of CRACK500_20160308_072921_1281_721_gtFine_labelIds.png is 0.6239505081749889\n",
      "F1-score of CRACK500_20160307_145113_1281_361_gtFine_labelIds.png is 0.6061850027367269\n",
      "F1-score of CRACK500_20160316_143445_1281_1_gtFine_labelIds.png is 0.7967938251447232\n",
      "F1-score of CRACK500_20160316_143433_641_721_gtFine_labelIds.png is 0.7843084750301245\n",
      "F1-score of CRACK500_20160302_155919_1281_361_gtFine_labelIds.png is 0.6593866171003716\n",
      "F1-score of CRACK500_20160330_170308_641_361_gtFine_labelIds.png is 0.8493456750718161\n",
      "F1-score of CRACK500_20160328_153620_1281_361_gtFine_labelIds.png is 0.7713143299367987\n",
      "F1-score of CRACK500_20160328_150820_1921_721_gtFine_labelIds.png is 0.09823526197891057\n",
      "F1-score of CRACK500_20160328_154454_1921_361_gtFine_labelIds.png is 0.8231923275896375\n",
      "F1-score of CRACK500_20160310_114441_641_721_gtFine_labelIds.png is 0.35753840657377634\n",
      "F1-score of CRACK500_20160222_165715_641_721_gtFine_labelIds.png is 0.5001521761184945\n",
      "F1-score of CRACK500_20160324_170655_1921_361_gtFine_labelIds.png is 0.6926258073509595\n",
      "F1-score of CRACK500_20160225_114503_641_1_gtFine_labelIds.png is 0.0548885077186964\n",
      "F1-score of CRACK500_20160316_143603_641_361_gtFine_labelIds.png is 0.8031851675778464\n",
      "F1-score of CRACK500_20160222_165031_641_721_gtFine_labelIds.png is 0.6443582574185984\n"
     ]
    },
    {
     "name": "stderr",
     "output_type": "stream",
     "text": [
      " 18%|█▊        | 102/580 [00:00<00:02, 169.64it/s]"
     ]
    },
    {
     "name": "stdout",
     "output_type": "stream",
     "text": [
      "F1-score of CRACK500_20160405_171456_641_361_gtFine_labelIds.png is 0.6222359456552053\n",
      "F1-score of CRACK500_20160321_185457_1281_1_gtFine_labelIds.png is 0.7747181266261925\n",
      "tpfp of CRACK500_20160328_153732_1921_361_gtFine_labelIds.png is zero\n",
      "tpfp of CRACK500_20160307_164214_1281_1081_gtFine_labelIds.png is zero\n",
      "F1-score of CRACK500_20160329_115531_1281_721_gtFine_labelIds.png is 0.7851228542578257\n",
      "F1-score of CRACK500_20160306_104456_1921_721_gtFine_labelIds.png is 0.718374246091199\n",
      "F1-score of CRACK500_20160321_185534_1921_721_gtFine_labelIds.png is 0.5938922331522537\n",
      "F1-score of CRACK500_20160329_115529_1921_721_gtFine_labelIds.png is 0.6239444236449103\n",
      "F1-score of CRACK500_20160222_081839_1281_721_gtFine_labelIds.png is 0.4160206718346253\n",
      "F1-score of CRACK500_20160328_152514_1_721_gtFine_labelIds.png is 0.2954501700571135\n",
      "F1-score of CRACK500_20160222_163940_1_361_gtFine_labelIds.png is 0.07600925147182507\n",
      "F1-score of CRACK500_20160330_160957_1921_361_gtFine_labelIds.png is 0.6161106233538193\n",
      "F1-score of CRACK500_20160328_152322_1921_721_gtFine_labelIds.png is 0.6431658229411038\n",
      "F1-score of CRACK500_20160316_143445_1921_1081_gtFine_labelIds.png is 0.610098294547593\n",
      "F1-score of CRACK500_20160303_092806_1_1081_gtFine_labelIds.png is 0.5599204375932372\n",
      "F1-score of CRACK500_20160328_151355_1281_361_gtFine_labelIds.png is 0.5533194910291221\n",
      "F1-score of CRACK500_20160316_144241_1921_1081_gtFine_labelIds.png is 0.7201798763350196\n",
      "F1-score of CRACK500_20160405_171336_1921_361_gtFine_labelIds.png is 0.4866555462885738\n",
      "F1-score of CRACK500_20160402_151049_1_721_gtFine_labelIds.png is 0.4758364312267659\n",
      "F1-score of CRACK500_20160328_151201_641_361_gtFine_labelIds.png is 0.10193168176361453\n",
      "tpfp of CRACK500_20160222_164936_641_721_gtFine_labelIds.png is zero\n",
      "tpfp of CRACK500_20160307_164214_1921_1_gtFine_labelIds.png is zero\n",
      "F1-score of CRACK500_20160407_163257_1921_1081_gtFine_labelIds.png is 0.6960194547548957\n",
      "F1-score of CRACK500_20160405_172908_641_721_gtFine_labelIds.png is 0.472291568982778\n",
      "F1-score of CRACK500_20160329_111111_641_721_gtFine_labelIds.png is 0.5259572468874795\n",
      "F1-score of CRACK500_20160308_073245_1281_1_gtFine_labelIds.png is 0.13320647002854424\n",
      "F1-score of CRACK500_20160316_143433_1921_1_gtFine_labelIds.png is 0.46624713958810066\n",
      "F1-score of CRACK500_20160316_143624_1_641_gtFine_labelIds.png is 0.692991887401036\n",
      "F1-score of CRACK500_20160308_073736_641_721_gtFine_labelIds.png is 0.05433171984589548\n",
      "F1-score of CRACK500_20160330_170348_641_721_gtFine_labelIds.png is 0.7576492044827339\n",
      "F1-score of CRACK500_20160330_163941_641_361_gtFine_labelIds.png is 0.7910243902439024\n",
      "F1-score of CRACK500_20160328_154017_1_361_gtFine_labelIds.png is 0.26896776294366653\n",
      "F1-score of CRACK500_20160329_101347_641_361_gtFine_labelIds.png is 0.8094175790232351\n"
     ]
    },
    {
     "name": "stderr",
     "output_type": "stream",
     "text": [
      " 24%|██▎       | 137/580 [00:00<00:02, 162.00it/s]"
     ]
    },
    {
     "name": "stdout",
     "output_type": "stream",
     "text": [
      "F1-score of CRACK500_20160222_115224_641_1_gtFine_labelIds.png is 0.6483698296836983\n",
      "tpfp of CRACK500_20160328_151243_1281_721_gtFine_labelIds.png is zero\n",
      "F1-score of CRACK500_20160307_144931_1_721_gtFine_labelIds.png is 0.6124223602484472\n",
      "F1-score of CRACK500_20160324_170542_1281_361_gtFine_labelIds.png is 0.7955713351396804\n",
      "F1-score of CRACK500_20160222_115224_1281_721_gtFine_labelIds.png is 0.6798041922932094\n",
      "F1-score of CRACK500_20160326_141812_641_361_gtFine_labelIds.png is 0.39243498817966904\n",
      "F1-score of CRACK500_20160306_103632_641_721_gtFine_labelIds.png is 0.5819564958992036\n",
      "F1-score of CRACK500_20160328_151057_1281_1081_gtFine_labelIds.png is 0.05727036072889549\n",
      "F1-score of CRACK500_20160405_171453_1921_1081_gtFine_labelIds.png is 0.7677999379973133\n",
      "F1-score of CRACK500_20160310_114446_641_361_gtFine_labelIds.png is 0.39632220667599444\n",
      "F1-score of CRACK500_20160303_093527_1921_361_gtFine_labelIds.png is 0.6607142857142857\n",
      "F1-score of CRACK500_20160316_144203_1_361_gtFine_labelIds.png is 0.8426020561534299\n",
      "F1-score of CRACK500_20160308_160128_1921_1081_gtFine_labelIds.png is 0.05816207832493215\n",
      "F1-score of CRACK500_20160306_104522_1_361_gtFine_labelIds.png is 0.7936596816919003\n",
      "F1-score of CRACK500_20160222_114806_1281_361_gtFine_labelIds.png is 0.2683053040103493\n",
      "tpfp of CRACK500_20160307_163613_641_721_gtFine_labelIds.png is zero\n",
      "F1-score of CRACK500_20160308_072921_1281_1081_gtFine_labelIds.png is 0.691687127323746\n",
      "F1-score of CRACK500_20160329_104120_641_361_gtFine_labelIds.png is 0.75965504311961\n",
      "F1-score of CRACK500_20160330_163946_1281_361_gtFine_labelIds.png is 0.8439103033856075\n",
      "F1-score of CRACK500_20160308_072921_1281_361_gtFine_labelIds.png is 0.2152308144663334\n",
      "F1-score of CRACK500_20160326_162538_1281_721_gtFine_labelIds.png is 0.00043112739814615223\n",
      "F1-score of CRACK500_20160328_153714_1281_1081_gtFine_labelIds.png is 0.06732176458289776\n",
      "F1-score of CRACK500_20160328_153813_1281_1_gtFine_labelIds.png is 0.7713854411271385\n",
      "F1-score of CRACK500_20160306_104522_1921_721_gtFine_labelIds.png is 0.7706258361825479\n",
      "F1-score of CRACK500_20160329_101511_1921_1_gtFine_labelIds.png is 0.42715796656431254\n",
      "F1-score of CRACK500_20160310_114658_641_361_gtFine_labelIds.png is 0.25443978043267673\n",
      "F1-score of CRACK500_20160222_114759_1281_361_gtFine_labelIds.png is 0.0006882312456985547\n",
      "F1-score of CRACK500_20160222_115224_641_721_gtFine_labelIds.png is 0.23473433782712136\n",
      "F1-score of CRACK500_20160302_155914_361_1921_gtFine_labelIds.png is 0.7695110314316282\n"
     ]
    },
    {
     "name": "stderr",
     "output_type": "stream",
     "text": [
      " 30%|███       | 175/580 [00:01<00:02, 170.63it/s]"
     ]
    },
    {
     "name": "stdout",
     "output_type": "stream",
     "text": [
      "F1-score of CRACK500_20160225_114503_1_361_gtFine_labelIds.png is 0.5476494486360998\n",
      "F1-score of CRACK500_20160303_093353_1_721_gtFine_labelIds.png is 0.4615614717319773\n",
      "F1-score of CRACK500_20160405_172908_1281_721_gtFine_labelIds.png is 0.4851640722063875\n",
      "tpfp of CRACK500_20160307_164214_641_1081_gtFine_labelIds.png is zero\n",
      "F1-score of CRACK500_20160222_081011_1281_721_gtFine_labelIds.png is 0.5436706993213337\n",
      "F1-score of CRACK500_20160328_153654_1921_1081_gtFine_labelIds.png is 0.7576493443419134\n",
      "F1-score of CRACK500_20160316_142449_1_361_gtFine_labelIds.png is 0.0785265562535694\n",
      "tpfp of CRACK500_20160330_165325_1281_721_gtFine_labelIds.png is zero\n",
      "tpfp of CRACK500_20160306_103638_1_1081_gtFine_labelIds.png is zero\n",
      "F1-score of CRACK500_20160328_151657_1921_1081_gtFine_labelIds.png is 0.49635036496350365\n",
      "F1-score of CRACK500_20160328_151657_1281_721_gtFine_labelIds.png is 0.16796494644595913\n",
      "F1-score of CRACK500_20160328_152511_1_361_gtFine_labelIds.png is 0.4610982211910286\n",
      "tpfp of CRACK500_20160222_165225_1921_721_gtFine_labelIds.png is zero\n",
      "F1-score of CRACK500_20160328_153623_641_361_gtFine_labelIds.png is 0.8190700291575016\n",
      "F1-score of CRACK500_20160308_074702_1_361_gtFine_labelIds.png is 0.34382152060694526\n",
      "F1-score of CRACK500_20160328_150940_641_361_gtFine_labelIds.png is 0.5629612678070828\n",
      "tpfp of CRACK500_20160328_151402_1921_361_gtFine_labelIds.png is zero\n",
      "F1-score of CRACK500_20160330_164743_1921_721_gtFine_labelIds.png is 0.7645166232572392\n",
      "F1-score of CRACK500_20160328_153702_1921_1081_gtFine_labelIds.png is 0.10709621245102306\n",
      "F1-score of CRACK500_20160329_094632_641_721_gtFine_labelIds.png is 0.27149250827009147\n",
      "F1-score of CRACK500_20160222_115828_641_721_gtFine_labelIds.png is 0.738602820596917\n",
      "F1-score of CRACK500_20160329_094010_641_361_gtFine_labelIds.png is 0.6435694992728028\n",
      "F1-score of CRACK500_20160316_141736_1_1081_gtFine_labelIds.png is 0.6157840083073728\n",
      "F1-score of CRACK500_20160329_103807_1281_721_gtFine_labelIds.png is 0.7404138103734309\n",
      "F1-score of CRACK500_20160222_165225_1281_361_gtFine_labelIds.png is 0.06694421315570359\n",
      "F1-score of CRACK500_20160328_153524_1_721_gtFine_labelIds.png is 0.7827928955515724\n",
      "tpfp of CRACK500_20160328_151504_1_1_gtFine_labelIds.png is zero\n",
      "tpfp of CRACK500_20160328_151814_1_721_gtFine_labelIds.png is zero\n",
      "F1-score of CRACK500_20160328_153702_1921_721_gtFine_labelIds.png is 0.4992947813822285\n",
      "F1-score of CRACK500_IMG_2935_649_485_gtFine_labelIds.png is 0.29928741092636574\n",
      "tpfp of CRACK500_20160222_165909_1_1_gtFine_labelIds.png is zero\n",
      "F1-score of CRACK500_20160306_103816_1921_361_gtFine_labelIds.png is 0.1343915343915344\n",
      "tpfp of CRACK500_20160307_164226_1921_721_gtFine_labelIds.png is zero\n",
      "F1-score of CRACK500_20160329_094025_641_361_gtFine_labelIds.png is 0.6256101988945819\n"
     ]
    },
    {
     "name": "stderr",
     "output_type": "stream",
     "text": [
      " 33%|███▎      | 193/580 [00:01<00:02, 162.22it/s]"
     ]
    },
    {
     "name": "stdout",
     "output_type": "stream",
     "text": [
      "tpfp of CRACK500_20160222_165926_641_361_gtFine_labelIds.png is zero\n",
      "F1-score of CRACK500_20160225_114514_1081_641_gtFine_labelIds.png is 0.34769736842105264\n",
      "tpfp of CRACK500_20160307_164226_641_361_gtFine_labelIds.png is zero\n",
      "F1-score of CRACK500_20160328_151247_641_721_gtFine_labelIds.png is 0.04369937841401394\n",
      "F1-score of CRACK500_20160222_163930_641_721_gtFine_labelIds.png is 0.7930232558139535\n",
      "F1-score of CRACK500_IMG_2937_649_485_gtFine_labelIds.png is 0.6887765699646888\n",
      "F1-score of CRACK500_20160328_153020_1921_721_gtFine_labelIds.png is 0.4867529266789895\n",
      "F1-score of CRACK500_20160328_153829_1_1_gtFine_labelIds.png is 0.6258373205741626\n",
      "tpfp of CRACK500_20160222_165951_1921_1081_gtFine_labelIds.png is zero\n",
      "F1-score of CRACK500_20160329_115531_1921_721_gtFine_labelIds.png is 0.776976466760655\n",
      "F1-score of CRACK500_20160329_094016_1_361_gtFine_labelIds.png is 0.7808025811655576\n",
      "F1-score of CRACK500_20160316_144431_1921_1_gtFine_labelIds.png is 0.871991969023376\n",
      "F1-score of CRACK500_20160308_073014_1_721_gtFine_labelIds.png is 0.6881246508163139\n",
      "F1-score of CRACK500_20160316_143445_1_721_gtFine_labelIds.png is 0.582744594305288\n",
      "tpfp of CRACK500_20160330_165956_1_721_gtFine_labelIds.png is zero\n",
      "F1-score of CRACK500_20160328_151423_1_1081_gtFine_labelIds.png is 0.01059220028887819\n",
      "F1-score of CRACK500_20160316_144230_1281_1081_gtFine_labelIds.png is 0.7187733732236351\n",
      "F1-score of CRACK500_20160328_154339_1921_1081_gtFine_labelIds.png is 0.7646358404445326\n",
      "F1-score of CRACK500_20160303_092839_1921_361_gtFine_labelIds.png is 0.579856313898867\n",
      "F1-score of CRACK500_20160329_103530_641_361_gtFine_labelIds.png is 0.41769159889427504\n",
      "F1-score of CRACK500_20160303_091830_721_641_gtFine_labelIds.png is 0.3324460807482773\n",
      "tpfp of CRACK500_20160307_164143_641_1_gtFine_labelIds.png is zero\n",
      "F1-score of CRACK500_20160328_153848_1921_1081_gtFine_labelIds.png is 0.7084222782844944\n",
      "F1-score of CRACK500_20160316_144241_1_1081_gtFine_labelIds.png is 0.8241510158989386\n",
      "F1-score of CRACK500_20160328_151752_1_361_gtFine_labelIds.png is 0.716099114712633\n",
      "F1-score of CRACK500_20160225_114531_1281_1081_gtFine_labelIds.png is 0.4537281861448969\n",
      "F1-score of CRACK500_20160308_074330_1281_721_gtFine_labelIds.png is 0.7295663388682895\n",
      "F1-score of CRACK500_20160222_115324_1281_1_gtFine_labelIds.png is 0.004226096143687268\n",
      "F1-score of CRACK500_20160329_111111_721_641_gtFine_labelIds.png is 0.7483116529936998\n",
      "F1-score of CRACK500_20160307_164319_1921_361_gtFine_labelIds.png is 0.6410008191227939\n",
      "F1-score of CRACK500_20160405_171219_1_721_gtFine_labelIds.png is 0.37821362767551187\n",
      "F1-score of CRACK500_20160328_153616_1_361_gtFine_labelIds.png is 0.7937243096161639\n",
      "F1-score of CRACK500_20160316_143547_1281_361_gtFine_labelIds.png is 0.5433673469387754\n"
     ]
    },
    {
     "name": "stderr",
     "output_type": "stream",
     "text": [
      " 39%|███▉      | 229/580 [00:01<00:02, 160.48it/s]"
     ]
    },
    {
     "name": "stdout",
     "output_type": "stream",
     "text": [
      "F1-score of CRACK500_20160308_155720_1_1_gtFine_labelIds.png is 0.8511100648292347\n",
      "tpfp of CRACK500_20160222_164822_641_1_gtFine_labelIds.png is zero\n",
      "F1-score of CRACK500_20160318_181602_1_1081_gtFine_labelIds.png is 0.028631578947368418\n",
      "F1-score of CRACK500_20160222_080933_721_641_gtFine_labelIds.png is 0.7077904812549852\n",
      "F1-score of CRACK500_20160328_154452_1281_361_gtFine_labelIds.png is 0.8741860206689632\n",
      "F1-score of CRACK500_20160328_150940_1921_361_gtFine_labelIds.png is 0.08362562303858224\n",
      "F1-score of CRACK500_20160328_151409_1921_721_gtFine_labelIds.png is 0.21741051701281486\n",
      "F1-score of CRACK500_20160222_115847_1281_1_gtFine_labelIds.png is 0.6563663440059568\n",
      "F1-score of CRACK500_20160405_172908_641_1081_gtFine_labelIds.png is 0.3076685809967246\n",
      "tpfp of CRACK500_20160321_183909_1921_721_gtFine_labelIds.png is zero\n",
      "F1-score of CRACK500_20160326_174634_641_721_gtFine_labelIds.png is 0.15419011826197457\n",
      "F1-score of CRACK500_20160405_172908_1_1_gtFine_labelIds.png is 0.13085153811859115\n",
      "tpfp of CRACK500_20160222_165947_641_361_gtFine_labelIds.png is zero\n",
      "F1-score of CRACK500_20160326_142403_1281_721_gtFine_labelIds.png is 0.35749231994538627\n",
      "F1-score of CRACK500_20160328_153724_1281_721_gtFine_labelIds.png is 0.7540013917884482\n",
      "F1-score of CRACK500_20160307_144916_641_721_gtFine_labelIds.png is 0.714526868611085\n",
      "F1-score of CRACK500_20160329_104024_641_721_gtFine_labelIds.png is 0.6713199937955638\n",
      "F1-score of CRACK500_20160402_150105_1281_361_gtFine_labelIds.png is 0.36675111593678367\n",
      "F1-score of CRACK500_20160329_115529_641_721_gtFine_labelIds.png is 0.8232955941135749\n",
      "F1-score of CRACK500_20160318_181632_1281_721_gtFine_labelIds.png is 0.8048372093023255\n",
      "F1-score of CRACK500_20160316_142539_1_721_gtFine_labelIds.png is 0.6026914676248855\n",
      "F1-score of CRACK500_20160328_153718_1_361_gtFine_labelIds.png is 0.22156640181611803\n",
      "F1-score of CRACK500_20160329_094452_1921_1_gtFine_labelIds.png is 0.23224638311948329\n",
      "F1-score of CRACK500_20160308_073736_641_361_gtFine_labelIds.png is 0.050058662495111456\n",
      "F1-score of CRACK500_20160329_104117_641_1_gtFine_labelIds.png is 0.765650280024891\n",
      "F1-score of CRACK500_20160330_164743_1281_721_gtFine_labelIds.png is 0.816547846169294\n",
      "F1-score of CRACK500_20160328_154339_1921_361_gtFine_labelIds.png is 0.7623107569721116\n"
     ]
    },
    {
     "name": "stderr",
     "output_type": "stream",
     "text": [
      " 46%|████▌     | 264/580 [00:01<00:01, 161.09it/s]"
     ]
    },
    {
     "name": "stdout",
     "output_type": "stream",
     "text": [
      "F1-score of CRACK500_20160402_150942_1281_721_gtFine_labelIds.png is 0.764801675002908\n",
      "F1-score of CRACK500_20160329_103800_361_1921_gtFine_labelIds.png is 0.24421855146124521\n",
      "F1-score of CRACK500_20160405_171453_1281_721_gtFine_labelIds.png is 0.03445545808658201\n",
      "F1-score of CRACK500_20160326_142403_1281_361_gtFine_labelIds.png is 0.007287536169756725\n",
      "F1-score of CRACK500_20160308_072944_641_361_gtFine_labelIds.png is 0.7278239093185712\n",
      "F1-score of CRACK500_20160328_152305_1281_721_gtFine_labelIds.png is 0.6124025463128532\n",
      "tpfp of CRACK500_20160307_164334_641_1_gtFine_labelIds.png is zero\n",
      "F1-score of CRACK500_20160405_172908_1921_1081_gtFine_labelIds.png is 0.30292074969080013\n",
      "F1-score of CRACK500_20160328_154321_641_721_gtFine_labelIds.png is 0.9005368700975064\n",
      "F1-score of CRACK500_20160329_104133_1281_361_gtFine_labelIds.png is 0.6875486381322957\n",
      "F1-score of CRACK500_20160303_091825_641_361_gtFine_labelIds.png is 0.6503415268807211\n",
      "tpfp of CRACK500_20160407_165001_1921_361_gtFine_labelIds.png is zero\n",
      "tpfp of CRACK500_20160330_170114_1281_721_gtFine_labelIds.png is zero\n",
      "F1-score of CRACK500_20160328_154017_1281_1_gtFine_labelIds.png is 0.7425101214574898\n",
      "F1-score of CRACK500_20160222_164021_1281_1_gtFine_labelIds.png is 0.7782426778242677\n",
      "F1-score of CRACK500_20160222_165031_641_361_gtFine_labelIds.png is 0.4207163275601144\n",
      "F1-score of CRACK500_20160316_144230_641_1081_gtFine_labelIds.png is 0.7794168893018933\n",
      "tpfp of CRACK500_20160325_185829_641_361_gtFine_labelIds.png is zero\n",
      "F1-score of CRACK500_20160222_115837_1281_361_gtFine_labelIds.png is 0.5945437441204139\n",
      "F1-score of CRACK500_20160328_154321_1921_1081_gtFine_labelIds.png is 0.7707486941381312\n",
      "F1-score of CRACK500_20160328_153616_1_721_gtFine_labelIds.png is 0.6439434796677813\n",
      "F1-score of CRACK500_20160405_171219_1921_721_gtFine_labelIds.png is 0.33464844536968646\n",
      "F1-score of CRACK500_20160316_144241_1_721_gtFine_labelIds.png is 0.7498994772818656\n",
      "F1-score of CRACK500_20160222_081839_1281_1081_gtFine_labelIds.png is 0.6997724534868158\n",
      "F1-score of CRACK500_20160316_143547_1281_1081_gtFine_labelIds.png is 0.7006229388054231\n",
      "F1-score of CRACK500_20160329_101503_1_361_gtFine_labelIds.png is 0.4007766990291262\n",
      "tpfp of CRACK500_20160222_081102_1921_361_gtFine_labelIds.png is zero\n",
      "F1-score of CRACK500_20160222_164141_641_361_gtFine_labelIds.png is 0.1833965032400049\n",
      "tpfp of CRACK500_20160330_172305_1921_721_gtFine_labelIds.png is zero\n",
      "F1-score of CRACK500_20160225_114514_1_1281_gtFine_labelIds.png is 0.12464589235127477\n",
      "F1-score of CRACK500_20160222_165951_641_361_gtFine_labelIds.png is 0.033444816053511704\n"
     ]
    },
    {
     "name": "stderr",
     "output_type": "stream",
     "text": [
      " 51%|█████▏    | 298/580 [00:01<00:01, 162.74it/s]"
     ]
    },
    {
     "name": "stdout",
     "output_type": "stream",
     "text": [
      "F1-score of CRACK500_20160330_160957_1281_1081_gtFine_labelIds.png is 0.6659542156476742\n",
      "F1-score of CRACK500_20160328_151355_1281_1081_gtFine_labelIds.png is 0.12934512059050723\n",
      "F1-score of CRACK500_20160324_170347_1281_1_gtFine_labelIds.png is 0.005529225908372828\n",
      "F1-score of CRACK500_20160326_162532_1_721_gtFine_labelIds.png is 0.461605679956308\n",
      "F1-score of CRACK500_20160306_103657_1_721_gtFine_labelIds.png is 0.6327813450490031\n",
      "tpfp of CRACK500_20160307_163627_1_361_gtFine_labelIds.png is zero\n",
      "F1-score of CRACK500_20160329_104201_1_361_gtFine_labelIds.png is 0.08070617906683482\n",
      "F1-score of CRACK500_20160329_101507_1921_361_gtFine_labelIds.png is 0.6223152022315203\n",
      "tpfp of CRACK500_20160325_185829_641_1081_gtFine_labelIds.png is zero\n",
      "F1-score of CRACK500_20160222_164000_1_1_gtFine_labelIds.png is 0.6809186878050626\n",
      "F1-score of CRACK500_20160308_072927_641_1081_gtFine_labelIds.png is 0.6040753556324491\n",
      "F1-score of CRACK500_20160329_111111_721_1281_gtFine_labelIds.png is 0.7967770134164417\n",
      "F1-score of CRACK500_20160328_153629_641_361_gtFine_labelIds.png is 0.8284889858540362\n",
      "tpfp of CRACK500_20160321_185457_1281_1081_gtFine_labelIds.png is zero\n",
      "F1-score of CRACK500_20160329_101514_641_361_gtFine_labelIds.png is 0.7140021652832913\n",
      "F1-score of CRACK500_20160407_163522_1_721_gtFine_labelIds.png is 0.43166357452071735\n",
      "F1-score of CRACK500_20160328_153724_641_361_gtFine_labelIds.png is 0.8530469917529198\n",
      "F1-score of CRACK500_20160321_185637_1281_361_gtFine_labelIds.png is 0.7006837272904863\n",
      "F1-score of CRACK500_20160330_160938_1921_721_gtFine_labelIds.png is 0.6589261379122376\n",
      "tpfp of CRACK500_20160310_114505_1281_1_gtFine_labelIds.png is zero\n",
      "F1-score of CRACK500_20160328_153540_1281_361_gtFine_labelIds.png is 0.8699141470698021\n",
      "F1-score of CRACK500_20160405_171716_1_1081_gtFine_labelIds.png is 0.7332079527135947\n",
      "F1-score of CRACK500_20160307_145000_641_361_gtFine_labelIds.png is 0.8457005549516563\n",
      "F1-score of CRACK500_20160405_171215_1921_1081_gtFine_labelIds.png is 0.19370454671626047\n",
      "F1-score of CRACK500_20160302_155848_1921_1_gtFine_labelIds.png is 0.11473829369195661\n",
      "F1-score of CRACK500_20160222_081908_1281_361_gtFine_labelIds.png is 0.08243727598566308\n",
      "F1-score of CRACK500_20160329_104107_1_361_gtFine_labelIds.png is 0.24192910791935693\n",
      "F1-score of CRACK500_20160306_103613_1921_361_gtFine_labelIds.png is 0.1696839221058812\n",
      "F1-score of CRACK500_20160308_074321_1281_361_gtFine_labelIds.png is 0.7589792060491495\n",
      "F1-score of CRACK500_20160316_143527_641_1_gtFine_labelIds.png is 0.7856684834882974\n",
      "F1-score of CRACK500_20160328_154454_361_1921_gtFine_labelIds.png is 0.8273840541948931\n",
      "F1-score of CRACK500_20160222_164141_1921_361_gtFine_labelIds.png is 0.1497584541062802\n",
      "tpfp of CRACK500_20160307_163641_1921_361_gtFine_labelIds.png is zero\n"
     ]
    },
    {
     "name": "stderr",
     "output_type": "stream",
     "text": [
      " 57%|█████▋    | 331/580 [00:02<00:01, 151.36it/s]"
     ]
    },
    {
     "name": "stdout",
     "output_type": "stream",
     "text": [
      "F1-score of CRACK500_20160329_093920_1921_361_gtFine_labelIds.png is 0.5897080797405153\n",
      "tpfp of CRACK500_20160307_164334_1921_1_gtFine_labelIds.png is zero\n",
      "F1-score of CRACK500_20160321_185518_1_361_gtFine_labelIds.png is 0.7045877247365159\n",
      "F1-score of CRACK500_20160307_144916_1281_361_gtFine_labelIds.png is 0.7089494163424125\n",
      "tpfp of CRACK500_20160307_164226_1_361_gtFine_labelIds.png is zero\n",
      "tpfp of CRACK500_20160328_151201_641_1_gtFine_labelIds.png is zero\n",
      "F1-score of CRACK500_IMG_2936_1945_485_gtFine_labelIds.png is 0.7871939736346516\n",
      "F1-score of CRACK500_20160306_103903_641_361_gtFine_labelIds.png is 0.5910490793525982\n",
      "F1-score of CRACK500_20160324_170542_641_361_gtFine_labelIds.png is 0.8470855412566238\n",
      "F1-score of CRACK500_20160307_145113_1921_1081_gtFine_labelIds.png is 0.265048052604957\n",
      "F1-score of CRACK500_20160328_153327_1281_361_gtFine_labelIds.png is 0.8169234505275086\n",
      "F1-score of CRACK500_20160328_152336_1921_721_gtFine_labelIds.png is 0.1757944557133198\n",
      "F1-score of CRACK500_20160329_104120_1281_721_gtFine_labelIds.png is 0.7351576994434137\n",
      "F1-score of CRACK500_20160326_141808_1281_1_gtFine_labelIds.png is 0.043874891398783665\n",
      "F1-score of CRACK500_20160329_103609_361_1281_gtFine_labelIds.png is 0.7689307497614207\n",
      "F1-score of CRACK500_20160405_171333_1921_721_gtFine_labelIds.png is 0.5598498030955216\n",
      "F1-score of CRACK500_20160222_163940_1281_1081_gtFine_labelIds.png is 0.30271493212669687\n",
      "F1-score of CRACK500_20160222_165937_1281_721_gtFine_labelIds.png is 0.46833529312951455\n",
      "F1-score of CRACK500_20160222_165951_641_1081_gtFine_labelIds.png is 0.003548895899053628\n",
      "F1-score of CRACK500_20160316_143433_1281_721_gtFine_labelIds.png is 0.7193776520509194\n",
      "F1-score of CRACK500_20160328_154356_641_1_gtFine_labelIds.png is 0.7690918746680828\n",
      "F1-score of CRACK500_20160328_154159_1281_361_gtFine_labelIds.png is 0.8664225092655541\n",
      "F1-score of CRACK500_20160328_151355_1_361_gtFine_labelIds.png is 0.07116051493990784\n",
      "F1-score of CRACK500_20160405_171219_1_361_gtFine_labelIds.png is 0.4172330420545624\n",
      "F1-score of CRACK500_20160330_170359_1921_361_gtFine_labelIds.png is 0.41154248952722916\n",
      "F1-score of CRACK500_20160330_172309_1921_361_gtFine_labelIds.png is 0.3456388824394397\n",
      "F1-score of CRACK500_20160222_080850_641_361_gtFine_labelIds.png is 0.14255797999735226\n",
      "F1-score of CRACK500_20160326_162529_1281_721_gtFine_labelIds.png is 0.32784867526073713\n",
      "F1-score of CRACK500_20160402_150300_641_721_gtFine_labelIds.png is 0.7194768521958832\n",
      "tpfp of CRACK500_20160222_081111_1281_721_gtFine_labelIds.png is zero\n",
      "F1-score of CRACK500_20160328_153620_1921_1081_gtFine_labelIds.png is 0.8347838493365672\n"
     ]
    },
    {
     "name": "stderr",
     "output_type": "stream",
     "text": [
      " 63%|██████▎   | 367/580 [00:02<00:01, 149.05it/s]"
     ]
    },
    {
     "name": "stdout",
     "output_type": "stream",
     "text": [
      "F1-score of CRACK500_20160302_160033_641_721_gtFine_labelIds.png is 0.11987619838453988\n",
      "F1-score of CRACK500_20160330_170507_1_721_gtFine_labelIds.png is 0.8913175011344728\n",
      "F1-score of CRACK500_20160321_183947_1921_721_gtFine_labelIds.png is 0.022520852641334573\n",
      "F1-score of CRACK500_20160328_153536_1_361_gtFine_labelIds.png is 0.6327557294577977\n",
      "F1-score of CRACK500_20160329_104038_1921_361_gtFine_labelIds.png is 0.897332019416767\n",
      "F1-score of CRACK500_20160316_143547_641_361_gtFine_labelIds.png is 0.8477859318057013\n",
      "F1-score of CRACK500_20160328_153616_1921_361_gtFine_labelIds.png is 0.8270023686288271\n",
      "F1-score of CRACK500_20160308_073014_1_361_gtFine_labelIds.png is 0.9102515324455718\n",
      "F1-score of CRACK500_20160328_150933_641_721_gtFine_labelIds.png is 0.571368539011066\n",
      "F1-score of CRACK500_20160308_073356_1281_1081_gtFine_labelIds.png is 0.0017406440382941688\n",
      "F1-score of CRACK500_20160308_160128_1921_361_gtFine_labelIds.png is 0.3292620865139949\n",
      "F1-score of CRACK500_20160308_072831_641_1081_gtFine_labelIds.png is 0.23188652000339763\n",
      "F1-score of CRACK500_20160303_093537_1_361_gtFine_labelIds.png is 0.6456915791192641\n",
      "F1-score of CRACK500_20160310_114505_641_1_gtFine_labelIds.png is 0.5873993368072004\n",
      "F1-score of CRACK500_20160222_114759_641_361_gtFine_labelIds.png is 0.22950819672131145\n",
      "F1-score of CRACK500_20160225_114514_721_641_gtFine_labelIds.png is 0.47375979893483333\n",
      "F1-score of CRACK500_20160316_143527_1921_361_gtFine_labelIds.png is 0.6434871099050203\n",
      "F1-score of CRACK500_20160330_170302_641_1_gtFine_labelIds.png is 0.47149604569420034\n",
      "F1-score of CRACK500_20160308_155828_1_721_gtFine_labelIds.png is 0.49426751592356694\n",
      "tpfp of CRACK500_20160222_081113_1281_361_gtFine_labelIds.png is zero\n",
      "F1-score of CRACK500_20160222_115233_1281_721_gtFine_labelIds.png is 0.7603381311400502\n",
      "F1-score of CRACK500_20160303_093527_1281_1_gtFine_labelIds.png is 0.6918478260869566\n",
      "tpfp of CRACK500_20160307_164400_1281_361_gtFine_labelIds.png is zero\n",
      "F1-score of CRACK500_20160310_114418_641_1_gtFine_labelIds.png is 0.24174757281553397\n",
      "F1-score of CRACK500_20160308_072844_1921_1_gtFine_labelIds.png is 0.6339446623555602\n",
      "F1-score of CRACK500_20160328_154334_641_1081_gtFine_labelIds.png is 0.5793450881612091\n",
      "F1-score of CRACK500_20160308_072844_1921_721_gtFine_labelIds.png is 0.8511593118922962\n",
      "tpfp of CRACK500_20160326_142745_1281_361_gtFine_labelIds.png is zero\n"
     ]
    },
    {
     "name": "stderr",
     "output_type": "stream",
     "text": [
      " 66%|██████▋   | 385/580 [00:02<00:01, 157.04it/s]"
     ]
    },
    {
     "name": "stdout",
     "output_type": "stream",
     "text": [
      "tpfp of CRACK500_20160326_162538_1_721_gtFine_labelIds.png is zero\n",
      "tpfp of CRACK500_20160330_170201_1_721_gtFine_labelIds.png is zero\n",
      "tpfp of CRACK500_20160321_183951_1281_1081_gtFine_labelIds.png is zero\n",
      "F1-score of CRACK500_20160316_143547_641_721_gtFine_labelIds.png is 0.43478260869565216\n",
      "F1-score of CRACK500_20160329_094452_1281_361_gtFine_labelIds.png is 0.474159209385215\n",
      "F1-score of CRACK500_20160328_153623_1921_721_gtFine_labelIds.png is 0.7808961957228994\n",
      "F1-score of CRACK500_20160328_153732_1281_721_gtFine_labelIds.png is 0.8852394366197184\n",
      "tpfp of CRACK500_20160330_165333_1_1081_gtFine_labelIds.png is zero\n",
      "F1-score of CRACK500_20160328_151423_1281_721_gtFine_labelIds.png is 0.33259334006054486\n",
      "tpfp of CRACK500_20160307_163352_641_1_gtFine_labelIds.png is zero\n",
      "F1-score of CRACK500_20160310_114425_641_1_gtFine_labelIds.png is 0.04002151694459387\n",
      "F1-score of CRACK500_20160328_153612_1281_1_gtFine_labelIds.png is 0.20748168145005783\n",
      "tpfp of CRACK500_20160321_183909_1_361_gtFine_labelIds.png is zero\n",
      "tpfp of CRACK500_20160330_170114_641_361_gtFine_labelIds.png is zero\n",
      "F1-score of CRACK500_20160328_153553_641_1081_gtFine_labelIds.png is 0.3054968287526427\n",
      "F1-score of CRACK500_20160316_144212_1281_361_gtFine_labelIds.png is 0.7684806542938031\n",
      "F1-score of CRACK500_20160222_164000_1_361_gtFine_labelIds.png is 0.39868399762688095\n",
      "F1-score of CRACK500_20160328_153645_1281_361_gtFine_labelIds.png is 0.8404737330091143\n",
      "F1-score of CRACK500_20160308_072921_641_361_gtFine_labelIds.png is 0.8160818033929816\n",
      "F1-score of CRACK500_20160307_162704_641_721_gtFine_labelIds.png is 0.45268020195509723\n",
      "F1-score of CRACK500_20160328_151057_1281_1_gtFine_labelIds.png is 0.593682099281297\n",
      "F1-score of CRACK500_20160222_115833_641_361_gtFine_labelIds.png is 0.649278215223097\n",
      "F1-score of CRACK500_20160402_150105_1921_361_gtFine_labelIds.png is 0.5855037351100343\n",
      "F1-score of CRACK500_20160306_103657_1921_721_gtFine_labelIds.png is 0.06332703213610585\n",
      "F1-score of CRACK500_20160308_155836_1281_721_gtFine_labelIds.png is 0.01310483870967742\n",
      "F1-score of CRACK500_20160222_163940_641_1081_gtFine_labelIds.png is 0.5657785179017486\n",
      "F1-score of CRACK500_20160321_183947_641_721_gtFine_labelIds.png is 0.1238973376441943\n",
      "F1-score of CRACK500_20160328_154321_1281_721_gtFine_labelIds.png is 0.8061513557264265\n",
      "F1-score of CRACK500_20160324_170323_1_721_gtFine_labelIds.png is 0.16237303106138673\n",
      "F1-score of CRACK500_20160328_150933_1_361_gtFine_labelIds.png is 0.6496815286624203\n",
      "F1-score of CRACK500_20160303_091825_641_1081_gtFine_labelIds.png is 0.6147807255008122\n",
      "tpfp of CRACK500_20160330_170848_1281_361_gtFine_labelIds.png is zero\n"
     ]
    },
    {
     "name": "stderr",
     "output_type": "stream",
     "text": [
      " 72%|███████▏  | 417/580 [00:02<00:01, 146.05it/s]"
     ]
    },
    {
     "name": "stdout",
     "output_type": "stream",
     "text": [
      "F1-score of CRACK500_20160328_152328_1_721_gtFine_labelIds.png is 0.8266237251744498\n",
      "tpfp of CRACK500_20160307_164400_641_361_gtFine_labelIds.png is zero\n",
      "F1-score of CRACK500_20160308_073245_641_361_gtFine_labelIds.png is 0.08243684274144808\n",
      "F1-score of CRACK500_20160328_150827_641_361_gtFine_labelIds.png is 0.41883998354586593\n",
      "F1-score of CRACK500_20160328_153616_641_721_gtFine_labelIds.png is 0.7949549549549549\n",
      "F1-score of CRACK500_20160306_103816_1921_721_gtFine_labelIds.png is 0.39336892385501543\n",
      "tpfp of CRACK500_20160328_151252_641_361_gtFine_labelIds.png is zero\n",
      "F1-score of CRACK500_20160328_153616_1921_1081_gtFine_labelIds.png is 0.3755115403503028\n",
      "F1-score of CRACK500_20160222_164000_641_1_gtFine_labelIds.png is 0.7285254937988058\n",
      "tpfp of CRACK500_20160330_165333_1281_721_gtFine_labelIds.png is zero\n",
      "F1-score of CRACK500_20160329_115529_1921_1081_gtFine_labelIds.png is 0.750994051595254\n",
      "F1-score of CRACK500_20160328_152308_1921_721_gtFine_labelIds.png is 0.7300909052825604\n",
      "F1-score of CRACK500_20160330_172305_641_721_gtFine_labelIds.png is 0.16787362893321475\n",
      "F1-score of CRACK500_20160222_081102_1281_721_gtFine_labelIds.png is 0.19979331725800897\n",
      "F1-score of CRACK500_20160405_171456_1281_361_gtFine_labelIds.png is 0.5068354804542208\n",
      "F1-score of CRACK500_20160405_171410_1921_361_gtFine_labelIds.png is 0.033784048598863414\n",
      "F1-score of CRACK500_20160328_153706_1921_361_gtFine_labelIds.png is 0.3814064362336114\n",
      "F1-score of CRACK500_20160329_103530_1_361_gtFine_labelIds.png is 0.392684238838085\n",
      "F1-score of CRACK500_20160328_154356_641_361_gtFine_labelIds.png is 0.7320287147212114\n",
      "F1-score of CRACK500_20160303_092627_641_721_gtFine_labelIds.png is 0.718343910546993\n",
      "F1-score of CRACK500_20160330_170504_1921_361_gtFine_labelIds.png is 0.9151973471368489\n",
      "F1-score of CRACK500_20160328_151814_1281_361_gtFine_labelIds.png is 0.03727252795439596\n",
      "F1-score of CRACK500_20160222_081839_1921_361_gtFine_labelIds.png is 0.8655825924192794\n",
      "F1-score of CRACK500_20160303_093400_1281_361_gtFine_labelIds.png is 0.7502584551764879\n",
      "F1-score of CRACK500_20160328_151752_641_361_gtFine_labelIds.png is 0.6938885675727782\n",
      "F1-score of CRACK500_20160328_153524_1921_361_gtFine_labelIds.png is 0.5508269838320016\n",
      "F1-score of CRACK500_20160306_103613_1281_361_gtFine_labelIds.png is 0.6157849089332178\n"
     ]
    },
    {
     "name": "stderr",
     "output_type": "stream",
     "text": [
      " 78%|███████▊  | 451/580 [00:02<00:00, 154.71it/s]"
     ]
    },
    {
     "name": "stdout",
     "output_type": "stream",
     "text": [
      "tpfp of CRACK500_20160222_081102_1_721_gtFine_labelIds.png is zero\n",
      "F1-score of CRACK500_20160316_141736_1921_361_gtFine_labelIds.png is 0.7782177081540139\n",
      "tpfp of CRACK500_20160307_163352_1281_721_gtFine_labelIds.png is zero\n",
      "F1-score of CRACK500_20160328_150933_1_721_gtFine_labelIds.png is 0.1950008416091567\n",
      "tpfp of CRACK500_20160326_142354_1281_1081_gtFine_labelIds.png is zero\n",
      "F1-score of CRACK500_20160328_153813_1_361_gtFine_labelIds.png is 0.6343591152630856\n",
      "F1-score of CRACK500_20160222_114806_1281_721_gtFine_labelIds.png is 0.5837204158372042\n",
      "F1-score of CRACK500_20160307_144115_641_721_gtFine_labelIds.png is 0.5643872113676732\n",
      "F1-score of CRACK500_20160329_103609_721_1921_gtFine_labelIds.png is 0.1697854860794158\n",
      "tpfp of CRACK500_20160222_164936_641_361_gtFine_labelIds.png is zero\n",
      "F1-score of CRACK500_20160402_151049_1_361_gtFine_labelIds.png is 0.731050609654251\n",
      "F1-score of CRACK500_20160329_104035_641_721_gtFine_labelIds.png is 0.8766873165960223\n",
      "F1-score of CRACK500_20160316_142027_641_721_gtFine_labelIds.png is 0.5763598706442353\n",
      "F1-score of CRACK500_20160225_114535_1_1_gtFine_labelIds.png is 0.005154639175257732\n",
      "F1-score of CRACK500_20160330_160957_641_721_gtFine_labelIds.png is 0.7269464087009584\n",
      "F1-score of CRACK500_20160316_144241_641_361_gtFine_labelIds.png is 0.5872883708021093\n",
      "F1-score of CRACK500_20160328_154334_641_1_gtFine_labelIds.png is 0.68303936890675\n",
      "F1-score of CRACK500_20160330_170501_1921_721_gtFine_labelIds.png is 0.8832599118942731\n",
      "F1-score of CRACK500_20160308_074101_1281_1_gtFine_labelIds.png is 0.08611532625189681\n",
      "F1-score of CRACK500_20160328_153645_1921_721_gtFine_labelIds.png is 0.7391652372784449\n",
      "F1-score of CRACK500_20160328_153848_641_721_gtFine_labelIds.png is 0.5943173201302466\n",
      "F1-score of CRACK500_20160222_115805_641_1_gtFine_labelIds.png is 0.6871794871794871\n",
      "tpfp of CRACK500_20160324_170347_1281_361_gtFine_labelIds.png is zero\n",
      "F1-score of CRACK500_20160328_154429_1281_721_gtFine_labelIds.png is 0.834434194006223\n",
      "F1-score of CRACK500_20160222_115805_641_1081_gtFine_labelIds.png is 0.23493234932349322\n",
      "F1-score of CRACK500_20160329_101342_1_361_gtFine_labelIds.png is 0.8406758737751715\n",
      "F1-score of CRACK500_20160222_165926_1921_721_gtFine_labelIds.png is 0.272675195722742\n",
      "tpfp of CRACK500_20160308_073245_641_721_gtFine_labelIds.png is zero\n",
      "F1-score of CRACK500_20160330_164935_1921_1081_gtFine_labelIds.png is 0.4069281045751634\n"
     ]
    },
    {
     "name": "stderr",
     "output_type": "stream",
     "text": [
      " 84%|████████▍ | 488/580 [00:03<00:00, 165.52it/s]"
     ]
    },
    {
     "name": "stdout",
     "output_type": "stream",
     "text": [
      "F1-score of CRACK500_20160328_152514_1281_721_gtFine_labelIds.png is 0.6658437229971609\n",
      "F1-score of CRACK500_20160328_153623_1921_361_gtFine_labelIds.png is 0.7156150043617332\n",
      "F1-score of CRACK500_20160328_154429_641_361_gtFine_labelIds.png is 0.3636164543563164\n",
      "F1-score of CRACK500_20160329_104205_1281_361_gtFine_labelIds.png is 0.7469201928227103\n",
      "F1-score of CRACK500_20160222_165926_1281_361_gtFine_labelIds.png is 0.01236749116607774\n",
      "F1-score of CRACK500_20160402_151049_1921_721_gtFine_labelIds.png is 0.8024211576159851\n",
      "F1-score of CRACK500_IMG_2935_1297_969_gtFine_labelIds.png is 0.8361295003174029\n",
      "tpfp of CRACK500_20160308_073406_1_361_gtFine_labelIds.png is zero\n",
      "F1-score of CRACK500_20160307_163552_641_361_gtFine_labelIds.png is 0.3071516429450009\n",
      "F1-score of CRACK500_20160329_104152_1281_721_gtFine_labelIds.png is 0.7289254310837046\n",
      "F1-score of CRACK500_20160222_165225_1_361_gtFine_labelIds.png is 0.026161790017211705\n",
      "F1-score of CRACK500_20160328_154325_1921_721_gtFine_labelIds.png is 0.43108657151786645\n",
      "F1-score of CRACK500_20160328_154017_1_1_gtFine_labelIds.png is 0.7269223100950356\n",
      "F1-score of CRACK500_20160329_111111_641_361_gtFine_labelIds.png is 0.595389507154213\n",
      "F1-score of CRACK500_20160222_163930_1281_721_gtFine_labelIds.png is 0.3355478433316807\n",
      "F1-score of CRACK500_20160308_073245_641_1_gtFine_labelIds.png is 0.38823529411764707\n",
      "F1-score of CRACK500_20160306_104527_1281_361_gtFine_labelIds.png is 0.8762574629917396\n",
      "tpfp of CRACK500_20160222_081113_641_361_gtFine_labelIds.png is zero\n",
      "F1-score of CRACK500_20160303_092627_1921_721_gtFine_labelIds.png is 0.8485395965070761\n",
      "F1-score of CRACK500_20160308_155720_641_1_gtFine_labelIds.png is 0.8391634050880626\n",
      "F1-score of CRACK500_20160328_153404_1921_361_gtFine_labelIds.png is 0.8937443879078121\n",
      "F1-score of CRACK500_20160328_151814_1_361_gtFine_labelIds.png is 0.02016304085668805\n",
      "F1-score of CRACK500_20160308_155537_1281_721_gtFine_labelIds.png is 0.3974121996303142\n",
      "F1-score of CRACK500_20160302_160033_1281_721_gtFine_labelIds.png is 0.29017829017829017\n",
      "F1-score of CRACK500_20160316_143603_1_721_gtFine_labelIds.png is 0.8067921872250572\n",
      "F1-score of CRACK500_20160329_094527_1281_361_gtFine_labelIds.png is 0.6433523181197329\n",
      "F1-score of CRACK500_20160405_171333_1281_721_gtFine_labelIds.png is 0.5558617765528938\n",
      "tpfp of CRACK500_20160407_164918_1_1_gtFine_labelIds.png is zero\n",
      "F1-score of CRACK500_20160330_170507_1921_721_gtFine_labelIds.png is 0.8761728873134551\n",
      "F1-score of CRACK500_20160329_111111_721_1_gtFine_labelIds.png is 0.8167105391439993\n",
      "F1-score of CRACK500_20160328_151243_641_361_gtFine_labelIds.png is 0.007209705372616984\n",
      "F1-score of CRACK500_20160329_103609_1921_1081_gtFine_labelIds.png is 0.6850140618722378\n",
      "F1-score of CRACK500_20160405_171431_1281_361_gtFine_labelIds.png is 0.6317004689081139\n",
      "F1-score of CRACK500_20160329_093924_641_361_gtFine_labelIds.png is 0.49785284398397217\n",
      "F1-score of CRACK500_20160330_170501_1921_361_gtFine_labelIds.png is 0.8904773156899812\n"
     ]
    },
    {
     "name": "stderr",
     "output_type": "stream",
     "text": [
      " 90%|█████████ | 522/580 [00:03<00:00, 162.98it/s]"
     ]
    },
    {
     "name": "stdout",
     "output_type": "stream",
     "text": [
      "F1-score of CRACK500_20160402_151049_641_361_gtFine_labelIds.png is 0.6621888581588304\n",
      "F1-score of CRACK500_20160328_151013_721_641_gtFine_labelIds.png is 0.563805030444069\n",
      "F1-score of CRACK500_20160329_103807_1921_721_gtFine_labelIds.png is 0.7799992689791294\n",
      "F1-score of CRACK500_20160308_074134_641_721_gtFine_labelIds.png is 0.09541267155480353\n",
      "tpfp of CRACK500_20160222_165909_641_721_gtFine_labelIds.png is zero\n",
      "F1-score of CRACK500_20160328_153714_1281_721_gtFine_labelIds.png is 0.38913284756068134\n",
      "tpfp of CRACK500_20160330_170014_1_361_gtFine_labelIds.png is zero\n",
      "F1-score of CRACK500_20160329_101520_641_721_gtFine_labelIds.png is 0.6369453924914676\n",
      "F1-score of CRACK500_20160407_163130_1_721_gtFine_labelIds.png is 0.6874729085392285\n",
      "F1-score of CRACK500_20160329_104152_1281_1081_gtFine_labelIds.png is 0.8102983548656938\n",
      "F1-score of CRACK500_20160308_160128_1281_721_gtFine_labelIds.png is 0.618805002315887\n",
      "tpfp of CRACK500_20160407_165001_1_1081_gtFine_labelIds.png is zero\n",
      "F1-score of CRACK500_20160407_165009_1921_1081_gtFine_labelIds.png is 0.055944055944055944\n",
      "F1-score of CRACK500_20160321_185457_1_361_gtFine_labelIds.png is 0.6512950580278225\n",
      "F1-score of CRACK500_20160328_153629_1_361_gtFine_labelIds.png is 0.888870909017355\n",
      "F1-score of CRACK500_20160307_145107_1921_1081_gtFine_labelIds.png is 0.03323738018221207\n",
      "F1-score of CRACK500_20160328_151808_1281_361_gtFine_labelIds.png is 0.5938723404255319\n",
      "F1-score of CRACK500_20160328_151056_1_361_gtFine_labelIds.png is 0.7866134016733249\n",
      "tpfp of CRACK500_20160308_074134_1_721_gtFine_labelIds.png is zero\n",
      "F1-score of CRACK500_20160222_164021_641_361_gtFine_labelIds.png is 0.1631799163179916\n",
      "F1-score of CRACK500_20160306_104522_1281_361_gtFine_labelIds.png is 0.8479209378121222\n",
      "F1-score of CRACK500_20160329_104205_641_721_gtFine_labelIds.png is 0.42553191489361697\n",
      "F1-score of CRACK500_20160307_163537_641_361_gtFine_labelIds.png is 0.09660107334525939\n",
      "F1-score of CRACK500_20160316_142009_1281_721_gtFine_labelIds.png is 0.6031347962382445\n",
      "F1-score of CRACK500_20160222_165951_1281_1081_gtFine_labelIds.png is 0.0010487676979549032\n",
      "F1-score of CRACK500_20160326_141808_641_361_gtFine_labelIds.png is 0.3427340016864986\n",
      "F1-score of CRACK500_20160308_155737_1281_1_gtFine_labelIds.png is 0.7053515718742501\n",
      "F1-score of CRACK500_20160328_150932_1_721_gtFine_labelIds.png is 0.0696799654683357\n",
      "tpfp of CRACK500_20160307_163342_641_1081_gtFine_labelIds.png is zero\n",
      "F1-score of CRACK500_20160330_170501_641_361_gtFine_labelIds.png is 0.9140474167889412\n",
      "F1-score of CRACK500_20160316_144212_1921_361_gtFine_labelIds.png is 0.8133081985646724\n",
      "F1-score of CRACK500_20160321_185457_1_721_gtFine_labelIds.png is 0.3893356835959017\n",
      "F1-score of CRACK500_20160405_171215_1281_721_gtFine_labelIds.png is 0.36915708060146835\n",
      "F1-score of CRACK500_20160405_171716_1_721_gtFine_labelIds.png is 0.7210824967263204\n",
      "tpfp of CRACK500_20160307_164226_1281_361_gtFine_labelIds.png is zero\n",
      "F1-score of CRACK500_20160329_094632_1281_721_gtFine_labelIds.png is 0.4735108902882893\n",
      "F1-score of CRACK500_20160308_073213_1_361_gtFine_labelIds.png is 0.8013875443691513\n",
      "F1-score of CRACK500_20160316_143445_1281_1081_gtFine_labelIds.png is 0.6036766159320024\n"
     ]
    },
    {
     "name": "stderr",
     "output_type": "stream",
     "text": [
      " 97%|█████████▋| 562/580 [00:03<00:00, 152.91it/s]"
     ]
    },
    {
     "name": "stdout",
     "output_type": "stream",
     "text": [
      "F1-score of CRACK500_20160222_080850_1281_361_gtFine_labelIds.png is 0.17320097793749448\n",
      "F1-score of CRACK500_20160328_151423_1_721_gtFine_labelIds.png is 0.053271950016441964\n",
      "F1-score of CRACK500_20160328_153702_1281_361_gtFine_labelIds.png is 0.5352057350486105\n",
      "F1-score of CRACK500_20160328_153421_1_721_gtFine_labelIds.png is 0.5111987860394537\n",
      "F1-score of CRACK500_20160407_165001_1281_721_gtFine_labelIds.png is 0.30669546436285106\n",
      "F1-score of CRACK500_20160316_142031_1281_721_gtFine_labelIds.png is 0.5727241018486222\n",
      "F1-score of CRACK500_20160318_084343_1281_721_gtFine_labelIds.png is 0.022032781484227\n",
      "F1-score of CRACK500_20160402_150942_1921_1081_gtFine_labelIds.png is 0.6410989010989011\n",
      "F1-score of CRACK500_20160329_104031_1_1081_gtFine_labelIds.png is 0.6896991795806746\n",
      "F1-score of CRACK500_20160307_164301_641_361_gtFine_labelIds.png is 0.0009142857142857143\n",
      "F1-score of CRACK500_20160326_150104_1_361_gtFine_labelIds.png is 0.616705948148444\n",
      "F1-score of CRACK500_20160330_170348_1_721_gtFine_labelIds.png is 0.7815319048182786\n",
      "tpfp of CRACK500_20160222_081908_1_1081_gtFine_labelIds.png is zero\n",
      "F1-score of CRACK500_20160222_115305_641_721_gtFine_labelIds.png is 0.724264705882353\n",
      "F1-score of CRACK500_20160405_171453_1_1081_gtFine_labelIds.png is 0.2588351431391905\n",
      "tpfp of CRACK500_20160308_155516_1_1081_gtFine_labelIds.png is zero\n",
      "F1-score of CRACK500_20160328_153536_1281_721_gtFine_labelIds.png is 0.8393328669119141\n",
      "F1-score of CRACK500_20160328_153556_1281_361_gtFine_labelIds.png is 0.6616625128280311\n",
      "F1-score of CRACK500_20160222_081113_1921_721_gtFine_labelIds.png is 0.19388418998048146\n",
      "tpfp of CRACK500_20160222_081111_1921_721_gtFine_labelIds.png is zero\n",
      "F1-score of CRACK500_20160402_150105_641_1_gtFine_labelIds.png is 0.0713185119964781\n",
      "F1-score of CRACK500_20160316_141736_1281_361_gtFine_labelIds.png is 0.7924086223055294\n",
      "F1-score of CRACK500_20160328_154535_1_361_gtFine_labelIds.png is 0.8871202739127267\n",
      "F1-score of CRACK500_20160326_162532_1921_361_gtFine_labelIds.png is 0.06103175540077914\n",
      "F1-score of CRACK500_20160330_165644_1_1081_gtFine_labelIds.png is 0.5592776980845499\n",
      "tpfp of CRACK500_20160321_183951_1281_361_gtFine_labelIds.png is zero\n"
     ]
    },
    {
     "name": "stderr",
     "output_type": "stream",
     "text": [
      "100%|██████████| 580/580 [00:03<00:00, 159.35it/s]"
     ]
    },
    {
     "name": "stdout",
     "output_type": "stream",
     "text": [
      "F1-score of CRACK500_20160302_155925_641_361_gtFine_labelIds.png is 0.4403028538147932\n",
      "F1-score of CRACK500_20160328_153540_1921_1_gtFine_labelIds.png is 0.8524886877828054\n",
      "F1-score of CRACK500_20160328_153657_641_721_gtFine_labelIds.png is 0.7272497365648051\n",
      "F1-score of CRACK500_20160329_101511_1281_721_gtFine_labelIds.png is 0.6918938147538797\n",
      "F1-score of CRACK500_20160328_151413_1281_361_gtFine_labelIds.png is 0.6440042390152442\n",
      "F1-score of CRACK500_20160308_155737_1281_361_gtFine_labelIds.png is 0.479297365119197\n",
      "F1-score of CRACK500_20160329_104024_1_1081_gtFine_labelIds.png is 0.043273753527751646\n",
      "tpfp of CRACK500_20160328_153421_1281_1081_gtFine_labelIds.png is zero\n",
      "F1-score of CRACK500_20160329_103800_721_641_gtFine_labelIds.png is 0.3745747704925672\n",
      "F1-score of CRACK500_20160222_165715_1921_361_gtFine_labelIds.png is 0.6395604395604395\n",
      "F1-score of CRACK500_20160225_114531_641_1081_gtFine_labelIds.png is 0.08087586085113897\n",
      "F1-score of CRACK500_20160307_162704_1_721_gtFine_labelIds.png is 0.6268084580190428\n",
      "F1-score of CRACK500_20160307_144842_641_721_gtFine_labelIds.png is 0.30163496830163494\n",
      "F1-score of CRACK500_20160310_114418_1281_1_gtFine_labelIds.png is 0.08592497595383135\n",
      "F1-score of CRACK500_20160330_170308_1_721_gtFine_labelIds.png is 0.8745381937770944\n",
      "F1-score of CRACK500_20160405_171215_641_721_gtFine_labelIds.png is 0.14505404657985546\n",
      "F1-score of CRACK500_20160316_141721_1921_721_gtFine_labelIds.png is 0.2629643251195293\n",
      "F1-score of CRACK500_20160308_155828_1_361_gtFine_labelIds.png is 0.6897850305978347\n",
      "The precision of crack is  52.315174763128105 %\n",
      "The recall of crack is  51.24632575297022 %\n",
      "The f1-score of crack is  51.775234510397674 %\n"
     ]
    },
    {
     "name": "stderr",
     "output_type": "stream",
     "text": [
      "\n"
     ]
    }
   ],
   "source": [
    "# infer_list = glob(osp.join(infer_dir, '*.png'))\n",
    "\n",
    "# tp = 0\n",
    "# tpfp = 0\n",
    "# tpfn = 0\n",
    "\n",
    "# for infer_path in tqdm(infer_list):\n",
    "#     infer = Image.open(infer_path)\n",
    "#     infer_arr = np.array(infer)\n",
    "\n",
    "#     base_name = osp.basename(infer_path)\n",
    "#     base_name = base_name.replace('leftImg8bit_color', 'gtFine_labelIds')\n",
    "\n",
    "#     gt_path = osp.join(gt_dir, base_name)\n",
    "#     gt = Image.open(gt_path)\n",
    "#     gt_arr = np.array(gt)\n",
    "\n",
    "#     mul = np.sqrt(np.multiply(gt_arr, infer_arr))\n",
    "\n",
    "#     tp_img = len(mul[mul==1])\n",
    "#     tpfp_img = len(infer_arr[infer_arr==1])\n",
    "#     tpfn_img = len(gt_arr[gt_arr==1])\n",
    "\n",
    "#     if tpfp_img == 0:\n",
    "#         print(f'tpfp of {base_name} is zero')\n",
    "#     else:\n",
    "#         pre_img = tp_img / tpfp_img\n",
    "    \n",
    "#     if tpfn_img == 0:\n",
    "#         print(f'tpfn of {base_name} is zero')\n",
    "#     else:\n",
    "#         recall_img = tp_img / tpfn_img\n",
    "\n",
    "#     if tpfp_img !=0 and tpfn_img != 0:\n",
    "#         if (pre_img + recall_img) != 0:\n",
    "#             f1_img = (2 * pre_img * recall_img) / (pre_img + recall_img)\n",
    "#             print(f\"F1-score of {base_name} is {f1_img}\")\n",
    "\n",
    "#     tp = tp + tp_img\n",
    "#     tpfp = tpfp + tpfp_img\n",
    "#     tpfn = tpfn + tpfn_img\n",
    "    \n",
    "# pre = tp / tpfp  # 오탐지\n",
    "# recall = tp / tpfn  # 미탐지\n",
    "\n",
    "# f1 = (2 * pre * recall) / (pre + recall)\n",
    "\n",
    "# print('The precision of crack is ', pre*100, '%')\n",
    "# print('The recall of crack is ', recall*100, '%')\n",
    "# print('The f1-score of crack is ', f1*100, '%')"
   ]
  },
  {
   "cell_type": "code",
   "execution_count": 61,
   "metadata": {},
   "outputs": [
    {
     "name": "stderr",
     "output_type": "stream",
     "text": [
      "/home/user/anaconda3/envs/mmseg2/lib/python3.7/site-packages/ipykernel_launcher.py:6: DeprecationWarning: `np.int` is a deprecated alias for the builtin `int`. To silence this warning, use `int` by itself. Doing this will not modify any behavior and is safe. When replacing `np.int`, you may wish to use e.g. `np.int64` or `np.int32` to specify the precision. If you wish to review your current use, check the release note link for additional information.\n",
      "Deprecated in NumPy 1.20; for more details and guidance: https://numpy.org/devdocs/release/1.20.0-notes.html#deprecations\n",
      "  \n",
      "100%|██████████| 500/500 [01:04<00:00,  7.81it/s]"
     ]
    },
    {
     "name": "stdout",
     "output_type": "stream",
     "text": [
      "precision_list: [81.40804798 63.97438598 79.10307877 27.3142755  46.43174262 54.97433163\n",
      " 67.45374116 76.51017443 85.16595436 41.02632251 82.7391576  68.17451764\n",
      " 46.87468372 71.19646432 49.61342761 78.30056057 91.48096988 34.60969181\n",
      " 74.56664082]\n",
      "recall_list: [95.14172965 60.63973658 92.76126066 48.26406621 45.68922275 47.63880971\n",
      " 50.2551713  41.66306325 93.36006404 57.0074384  96.62900275 74.25507562\n",
      " 53.45024995 93.13799516 66.27467973 60.12014751 35.49989919 60.10693501\n",
      " 51.99185176]\n",
      "f1_list: [87.74072215 62.262444   85.38945697 34.88560271 46.05749023 51.04437286\n",
      " 57.5980059  53.94873321 89.07495976 47.71428805 89.14628184 71.08500202\n",
      " 49.94697668 80.70244026 56.7463582  68.01643073 51.15046435 43.9264481\n",
      " 61.26586461]\n"
     ]
    },
    {
     "name": "stderr",
     "output_type": "stream",
     "text": [
      "\n"
     ]
    }
   ],
   "source": [
    "# cityscapes\n",
    "import json\n",
    "\n",
    "with open('/home/user/WEAK_DA/weak-da-seg/data/cityscapes_list/info.json', 'r') as fp:\n",
    "    info = json.load(fp)\n",
    "mapping = np.array(info['label2train'], dtype=np.int)\n",
    "\n",
    "def label_mapping(input, mapping):\n",
    "    output = np.copy(input)\n",
    "    for ind in range(len(mapping)):\n",
    "        output[input == mapping[ind][0]] = mapping[ind][1]\n",
    "    return np.array(output, dtype=np.int64)\n",
    "\n",
    "infer_list = glob(osp.join(infer_dir, '*.png'))\n",
    "\n",
    "num_classes = 19\n",
    "\n",
    "tp_list = np.zeros(num_classes, dtype=np.int32)\n",
    "tpfp_list = np.zeros(num_classes, dtype=np.int32)\n",
    "tpfn_list = np.zeros(num_classes, dtype=np.int32)\n",
    "\n",
    "for infer_path in tqdm(infer_list):\n",
    "    infer = Image.open(infer_path)\n",
    "    infer_arr = np.array(infer)\n",
    "\n",
    "    base_name = osp.basename(infer_path)\n",
    "    city = base_name.split('_')[0]\n",
    "    base_name = base_name.replace('_leftImg8bit_color', '_gtFine_labelIds')\n",
    "    base_name = city + '/' + base_name\n",
    "\n",
    "    gt_path = osp.join(gt_dir, base_name)\n",
    "    gt = Image.open(gt_path)\n",
    "    gt_arr = np.array(gt)\n",
    "\n",
    "    gt_arr = label_mapping(gt_arr, mapping)\n",
    "\n",
    "    # mul = np.sqrt(np.multiply(gt_arr, infer_arr))\n",
    "\n",
    "    for i in range(num_classes):\n",
    "        tp_img = np.sum((infer_arr==i) & (gt_arr==i))\n",
    "        tpfp_img = len(infer_arr[infer_arr==i])\n",
    "        tpfn_img = len(gt_arr[gt_arr==i])\n",
    "\n",
    "        if tpfp_img == 0:\n",
    "            pass\n",
    "        else:\n",
    "            pre_img = tp_img / tpfp_img\n",
    "\n",
    "        if tpfn_img == 0:\n",
    "            pass\n",
    "        else:\n",
    "            recall_img = tp_img / tpfn_img\n",
    "\n",
    "        if tpfp_img !=0 and tpfn_img != 0:\n",
    "            if (pre_img + recall_img) != 0:\n",
    "                f1_img = (2 * pre_img * recall_img) / (pre_img + recall_img)\n",
    "\n",
    "        tp_list[i] += tp_img\n",
    "        tpfp_list[i] += tpfp_img\n",
    "        tpfn_list[i] += tpfn_img\n",
    "    \n",
    "precision_list = tp_list / tpfp_list\n",
    "recall_list = tp_list / tpfn_list\n",
    "f1_list = (2 * precision_list * recall_list) / (precision_list + recall_list)\n",
    "\n",
    "print('precision_list:', precision_list*100)\n",
    "print('recall_list:', recall_list*100)\n",
    "print('f1_list:', f1_list*100)"
   ]
  },
  {
   "cell_type": "code",
   "execution_count": 53,
   "metadata": {},
   "outputs": [
    {
     "data": {
      "text/plain": [
       "61.124387168270836"
      ]
     },
     "execution_count": 53,
     "metadata": {},
     "output_type": "execute_result"
    }
   ],
   "source": [
    "np.mean(f1_list)*100"
   ]
  },
  {
   "cell_type": "code",
   "execution_count": 90,
   "metadata": {},
   "outputs": [
    {
     "name": "stderr",
     "output_type": "stream",
     "text": [
      "100%|██████████| 2320/2320 [00:11<00:00, 206.74it/s]"
     ]
    },
    {
     "name": "stdout",
     "output_type": "stream",
     "text": [
      "The precision of crack is  31.131888645913087 %\n",
      "The recall of crack is  20.58615546667772 %\n",
      "The f1-score of crack is  24.783841331696514 %\n"
     ]
    },
    {
     "name": "stderr",
     "output_type": "stream",
     "text": [
      "\n"
     ]
    }
   ],
   "source": [
    "# CRACK500_20160222_080850_641_361_leftImg8bit_quarter_1_color.png\n",
    "# CRACK500_20160222_080850_641_361_gtFine_labelIds_quarter_1.png\n",
    "\n",
    "infer_list = glob(osp.join(infer_dir, 'CRACK500*'))\n",
    "\n",
    "tp = 0\n",
    "tpfp = 0\n",
    "tpfn = 0\n",
    "\n",
    "for infer_path in tqdm(infer_list):\n",
    "    infer = Image.open(infer_path)\n",
    "    infer_arr = np.array(infer)\n",
    "\n",
    "    base_name = osp.basename(infer_path)\n",
    "    base_name = base_name.replace('_leftImg8bit_', '_gtFine_labelIds_')\n",
    "    base_name = base_name.replace('_color.png', '.png')\n",
    "\n",
    "    gt_path = osp.join(gt_dir, base_name)\n",
    "    gt = Image.open(gt_path)\n",
    "    gt_arr = np.array(gt)\n",
    "\n",
    "    mul = np.sqrt(np.multiply(gt_arr, infer_arr))\n",
    "\n",
    "    tp_img = len(mul[mul==1])\n",
    "    tpfp_img = len(infer_arr[infer_arr==1])\n",
    "    tpfn_img = len(gt_arr[gt_arr==1])\n",
    "\n",
    "    if tpfp_img == 0:\n",
    "        pass\n",
    "        # print('tpfp_img is zero')\n",
    "    else:\n",
    "        pre_img = tp_img / tpfp_img\n",
    "    \n",
    "    if tpfn_img == 0:\n",
    "        pass\n",
    "        # print('tpfn_img is zero')\n",
    "    else:\n",
    "        recall_img = tp_img / tpfn_img\n",
    "\n",
    "    if tpfp_img !=0 and tpfn_img != 0:\n",
    "        if (pre_img + recall_img) != 0:\n",
    "            f1_img = (2 * pre_img * recall_img) / (pre_img + recall_img)\n",
    "            # print(f\"F1-score of this image is {f1_img}\")\n",
    "\n",
    "    tp = tp + tp_img\n",
    "    tpfp = tpfp + tpfp_img\n",
    "    tpfn = tpfn + tpfn_img\n",
    "    \n",
    "pre = tp / tpfp  # 오탐지\n",
    "recall = tp / tpfn  # 미탐지\n",
    "\n",
    "f1 = (2 * pre * recall) / (pre + recall)\n",
    "\n",
    "print('The precision of crack is ', pre*100, '%')\n",
    "print('The recall of crack is ', recall*100, '%')\n",
    "print('The f1-score of crack is ', f1*100, '%')"
   ]
  },
  {
   "cell_type": "code",
   "execution_count": null,
   "metadata": {},
   "outputs": [],
   "source": []
  }
 ],
 "metadata": {
  "kernelspec": {
   "display_name": "Python 3.7.16 ('mmseg2')",
   "language": "python",
   "name": "python3"
  },
  "language_info": {
   "codemirror_mode": {
    "name": "ipython",
    "version": 3
   },
   "file_extension": ".py",
   "mimetype": "text/x-python",
   "name": "python",
   "nbconvert_exporter": "python",
   "pygments_lexer": "ipython3",
   "version": "3.7.16"
  },
  "orig_nbformat": 4,
  "vscode": {
   "interpreter": {
    "hash": "2086e71761e0346d1b2ba579c50f43c8a7cc145636f342809f163fcf7c3af47c"
   }
  }
 },
 "nbformat": 4,
 "nbformat_minor": 2
}
