{
 "cells": [
  {
   "cell_type": "code",
   "execution_count": 10,
   "metadata": {},
   "outputs": [],
   "source": [
    "import os\n",
    "from glob import glob\n",
    "from PIL import Image\n",
    "import numpy as np\n",
    "from tqdm import tqdm"
   ]
  },
  {
   "cell_type": "code",
   "execution_count": 16,
   "metadata": {},
   "outputs": [],
   "source": [
    "# PNG 파일이 들어있는 폴더 경로\n",
    "input_folder = '/home/user/WindowsShare/05. Data/02. Training&Test/014. AI-Hub/콘크리트_콘크리트균열_원천_34'\n",
    "output_folder = '/home/user/WindowsShare/05. Data/02. Training&Test/014. AI-Hub/콘크리트_콘크리트균열_원천_34/overlap/train'\n",
    "alpha = 0.8"
   ]
  },
  {
   "cell_type": "code",
   "execution_count": 17,
   "metadata": {},
   "outputs": [
    {
     "name": "stderr",
     "output_type": "stream",
     "text": [
      "100%|██████████| 249/249 [04:35<00:00,  1.11s/it]\n"
     ]
    }
   ],
   "source": [
    "gt_list = glob(os.path.join(input_folder, \"gtFine\", \"train\", \"*_gtFine_labelIds.png\"))\n",
    "\n",
    "# Define a dictionary for label colors\n",
    "label_colors = {\n",
    "    1: np.array([255, 0, 0]),   # Red for label 1\n",
    "    2: np.array([0, 255, 0]),   # Green for label 2\n",
    "    3: np.array([0, 255, 255]),\n",
    "    4: np.array([255, 0, 255]),\n",
    "}\n",
    "    \n",
    "for gt_path in tqdm(gt_list):\n",
    "\n",
    "    # img 불러오기\n",
    "    gt = Image.open(gt_path)\n",
    "    gt_array = np.array(gt)\n",
    "\n",
    "    # img 불러오기\n",
    "    img_path = gt_path.replace('gtFine_labelIds.png', 'leftImg8bit.png')\n",
    "    img_path = img_path.replace('gtFine', 'leftImg8bit')\n",
    "\n",
    "    # Check if the img_path exists\n",
    "    if os.path.exists(img_path):\n",
    "        img = Image.open(img_path)\n",
    "        seg_result = np.array(img)\n",
    "        img_array = np.array(img)\n",
    "\n",
    "        for label, color in label_colors.items():\n",
    "            # Create mask for the current label\n",
    "            mask_bool = gt_array == label\n",
    "\n",
    "            # Blend the original image with the color based on the mask and alpha value\n",
    "            seg_result[mask_bool] = seg_result[mask_bool] * (1 - alpha) + color * alpha\n",
    "\n",
    "        # Convert the array back to an image\n",
    "        blended_img = Image.fromarray(seg_result.astype('uint8'))\n",
    "\n",
    "        # Save the blended image\n",
    "        basename = os.path.basename(gt_path)\n",
    "        result_path = os.path.join(output_folder, basename.replace('gtFine_labelIds', 'blended'))\n",
    "        blended_img.save(result_path, \"png\")\n",
    "    else:\n",
    "        # Skip this file if img_path does not exist\n",
    "        pass"
   ]
  },
  {
   "cell_type": "code",
   "execution_count": 9,
   "metadata": {},
   "outputs": [
    {
     "name": "stderr",
     "output_type": "stream",
     "text": [
      "100%|██████████| 171/171 [07:57<00:00,  2.79s/it]\n"
     ]
    }
   ],
   "source": [
    "img_list = glob(os.path.join(input_folder, \"leftImg8bit\", \"train\", \"kaggle*\"))\n",
    "    \n",
    "for img_path in tqdm(img_list):\n",
    "\n",
    "    # img 불러오기\n",
    "    img = Image.open(img_path)\n",
    "    img_array = np.array(img)\n",
    "\n",
    "    # gt 불러오기\n",
    "    gt_path = img_path.replace('leftImg8bit.png', 'gtFine_labelIds.png')\n",
    "    gt_path = gt_path.replace('leftImg8bit', 'gtFine')\n",
    "\n",
    "    gt = Image.open(gt_path)\n",
    "    gt_array = np.array(gt)\n",
    "\n",
    "    # gt에서 라벨링된 index 구하기\n",
    "    GA_index = np.where(gt_array==1)\n",
    "    GA_x, GA_y = GA_index\n",
    "\n",
    "    # 원본 이미지 픽셀값 불러오기\n",
    "    px = img.load()\n",
    "\n",
    "    # 라벨링된 부분 픽셀값 변경하기\n",
    "    for i in range(len(GA_x)):\n",
    "        px[int(GA_y[i]), int(GA_x[i])] = (255, 0, 0)\n",
    "\n",
    "    # 변경된 이미지 저장하기\n",
    "    basename = os.path.basename(gt_path)\n",
    "    result_path = os.path.join(output_folder, basename)\n",
    "    img.save(result_path, \"png\")"
   ]
  },
  {
   "cell_type": "code",
   "execution_count": 3,
   "metadata": {},
   "outputs": [
    {
     "name": "stderr",
     "output_type": "stream",
     "text": [
      "100%|██████████| 98/98 [07:18<00:00,  4.47s/it]\n"
     ]
    }
   ],
   "source": [
    "# Assuming input_folder, output_folder, and alpha are defined\n",
    "img_list = glob(os.path.join(input_folder, \"leftImg8bit\", \"val\", \"*leftImg8bit.png\"))\n",
    "\n",
    "# Define a dictionary for label colors\n",
    "label_colors = {\n",
    "    1: np.array([255, 0, 0]),   # Red for label 1\n",
    "    2: np.array([0, 255, 0]),   # Green for label 2\n",
    "    3: np.array([0, 255, 255]),\n",
    "    4: np.array([255, 0, 255]),\n",
    "    7: np.array([255, 255, 0]),\n",
    "    8: np.array([0, 0, 255])\n",
    "}\n",
    "\n",
    "for img_path in tqdm(img_list):\n",
    "    # Load image and convert to NumPy array\n",
    "    img = Image.open(img_path)\n",
    "    seg_result = np.array(img)\n",
    "\n",
    "    # Load ground truth\n",
    "    gt_path = img_path.replace('leftImg8bit.png', 'gtFine_labelIds.png')\n",
    "    gt_path = gt_path.replace('leftImg8bit', 'gtFine')\n",
    "    gt = Image.open(gt_path)\n",
    "    gt_array = np.array(gt)\n",
    "\n",
    "    for label, color in label_colors.items():\n",
    "        # Create mask for the current label\n",
    "        mask_bool = gt_array == label\n",
    "\n",
    "        # Blend the original image with the color based on the mask and alpha value\n",
    "        seg_result[mask_bool] = seg_result[mask_bool] * (1 - alpha) + color * alpha\n",
    "\n",
    "    # Convert the array back to an image\n",
    "    blended_img = Image.fromarray(seg_result.astype('uint8'))\n",
    "\n",
    "    # Save the blended image\n",
    "    basename = os.path.basename(gt_path)\n",
    "    result_path = os.path.join(output_folder, basename)\n",
    "    blended_img.save(result_path, \"png\")"
   ]
  },
  {
   "cell_type": "code",
   "execution_count": 4,
   "metadata": {},
   "outputs": [],
   "source": [
    "# PNG 파일이 들어있는 폴더 경로\n",
    "img_folder = '/home/user/WindowsShare/05. Data/00. Benchmarks/22. KhanhhaCrack/05. GAPS/leftImg8bit/val'\n",
    "gt_folder = '/home/user/WEAK_DA/weak-da-seg/result/02. gaps_s-gaps_t-baseline-1031'  # GAPS384_test_0005_541_641_leftImg8bit_color.png\n",
    "output_folder = '/home/user/WEAK_DA/weak-da-seg/result/gaps_gaps_overlap'"
   ]
  },
  {
   "cell_type": "code",
   "execution_count": 9,
   "metadata": {},
   "outputs": [
    {
     "name": "stderr",
     "output_type": "stream",
     "text": [
      "100%|██████████| 76/76 [00:04<00:00, 18.49it/s]\n"
     ]
    }
   ],
   "source": [
    "img_list = glob(os.path.join(img_folder, \"*leftImg8bit.png\"))\n",
    "\n",
    "for img_path in tqdm(img_list):\n",
    "\n",
    "    # img 불러오기\n",
    "    img = Image.open(img_path)\n",
    "    img_array = np.array(img)\n",
    "\n",
    "    img_name = os.path.basename(img_path)\n",
    "    gt_name = img_name.replace(\"_leftImg8bit.png\", \"_leftImg8bit_color.png\")\n",
    "\n",
    "    gt_path = os.path.join(gt_folder, gt_name)\n",
    "\n",
    "    gt = Image.open(gt_path)\n",
    "    gt_array = np.array(gt)\n",
    "\n",
    "    # gt에서 라벨링된 index 구하기\n",
    "    GA_index = np.where(gt_array==1)\n",
    "    GA_x, GA_y = GA_index\n",
    "\n",
    "    # 원본 이미지 픽셀값 불러오기\n",
    "    px = img.load()\n",
    "\n",
    "    # 라벨링된 부분 픽셀값 변경하기\n",
    "    for i in range(len(GA_x)):\n",
    "        px[int(GA_y[i]), int(GA_x[i])] = (255, 0, 0)\n",
    "\n",
    "    # 변경된 이미지 저장하기\n",
    "    basename = os.path.basename(gt_path)\n",
    "    result_path = os.path.join(output_folder, basename)\n",
    "    img.save(result_path, \"png\")"
   ]
  },
  {
   "cell_type": "code",
   "execution_count": null,
   "metadata": {},
   "outputs": [],
   "source": []
  }
 ],
 "metadata": {
  "kernelspec": {
   "display_name": "Python 3.7.16 ('mmseg2')",
   "language": "python",
   "name": "python3"
  },
  "language_info": {
   "codemirror_mode": {
    "name": "ipython",
    "version": 3
   },
   "file_extension": ".py",
   "mimetype": "text/x-python",
   "name": "python",
   "nbconvert_exporter": "python",
   "pygments_lexer": "ipython3",
   "version": "3.7.16"
  },
  "orig_nbformat": 4,
  "vscode": {
   "interpreter": {
    "hash": "2086e71761e0346d1b2ba579c50f43c8a7cc145636f342809f163fcf7c3af47c"
   }
  }
 },
 "nbformat": 4,
 "nbformat_minor": 2
}
