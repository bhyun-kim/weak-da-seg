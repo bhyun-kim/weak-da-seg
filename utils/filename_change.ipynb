{
 "cells": [
  {
   "cell_type": "code",
   "execution_count": 1,
   "metadata": {},
   "outputs": [],
   "source": [
    "import os\n",
    "from PIL import Image"
   ]
  },
  {
   "cell_type": "code",
   "execution_count": 12,
   "metadata": {},
   "outputs": [],
   "source": [
    "# Replace these paths with your specific folder paths\n",
    "source_folder = '/home/user/WindowsShare/05. Data/00. Benchmarks/26. Crack_Yang/train/annotation'\n",
    "destination_folder = '/home/user/WindowsShare/05. Data/00. Benchmarks/26. Crack_Yang/gtFine/train'"
   ]
  },
  {
   "cell_type": "code",
   "execution_count": 13,
   "metadata": {},
   "outputs": [],
   "source": [
    "# Ensure the destination folder exists\n",
    "os.makedirs(destination_folder, exist_ok=True)"
   ]
  },
  {
   "cell_type": "code",
   "execution_count": 14,
   "metadata": {},
   "outputs": [],
   "source": [
    "# Loop through all the files in the source folder\n",
    "for filename in os.listdir(source_folder):\n",
    "    if filename.endswith('.png'):\n",
    "        # Construct the full file path\n",
    "        file_path = os.path.join(source_folder, filename)\n",
    "        # Open the image\n",
    "        with Image.open(file_path) as img:\n",
    "            # Define the new filename (replace .jpg with .png)\n",
    "            new_filename = os.path.splitext(filename)[0] + '_gtFine_labelIds.png'\n",
    "            # Define the path to save the new image\n",
    "            new_file_path = os.path.join(destination_folder, new_filename)\n",
    "            # Convert and save the image in the new format and location\n",
    "            img.save(new_file_path)"
   ]
  },
  {
   "cell_type": "code",
   "execution_count": null,
   "metadata": {},
   "outputs": [],
   "source": []
  }
 ],
 "metadata": {
  "kernelspec": {
   "display_name": "Python 3.7.16 ('mmseg2')",
   "language": "python",
   "name": "python3"
  },
  "language_info": {
   "codemirror_mode": {
    "name": "ipython",
    "version": 3
   },
   "file_extension": ".py",
   "mimetype": "text/x-python",
   "name": "python",
   "nbconvert_exporter": "python",
   "pygments_lexer": "ipython3",
   "version": "3.7.16"
  },
  "orig_nbformat": 4,
  "vscode": {
   "interpreter": {
    "hash": "2086e71761e0346d1b2ba579c50f43c8a7cc145636f342809f163fcf7c3af47c"
   }
  }
 },
 "nbformat": 4,
 "nbformat_minor": 2
}
