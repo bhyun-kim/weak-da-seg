{
 "cells": [
  {
   "cell_type": "code",
   "execution_count": 1,
   "metadata": {},
   "outputs": [],
   "source": [
    "import os\n",
    "import shutil\n",
    "import random"
   ]
  },
  {
   "cell_type": "code",
   "execution_count": 2,
   "metadata": {},
   "outputs": [],
   "source": [
    "# Define source and destination directories\n",
    "source_dir = '/home/user/WindowsShare/05. Data/00. Benchmarks/27. crackseg9k/convert2cityscapes'\n",
    "destination_dir = '/home/user/WindowsShare/05. Data/00. Benchmarks/27. crackseg9k/part/crack500_305'"
   ]
  },
  {
   "cell_type": "code",
   "execution_count": 3,
   "metadata": {},
   "outputs": [],
   "source": [
    "# Define the specific subdirectories for images and annotations within the source and destination directories\n",
    "source_images_dir = os.path.join(source_dir, 'leftImg8bit', 'train')\n",
    "source_annotations_dir = os.path.join(source_dir, 'gtFine', 'train')\n",
    "\n",
    "dest_images_dir = os.path.join(destination_dir, 'leftImg8bit', 'train')\n",
    "dest_annotations_dir = os.path.join(destination_dir, 'gtFine', 'train')\n",
    "\n",
    "# Create the destination directories if they don't already exist\n",
    "os.makedirs(dest_images_dir, exist_ok=True)\n",
    "os.makedirs(dest_annotations_dir, exist_ok=True)\n",
    "\n",
    "# List all image files in the source images directory\n",
    "image_files = [f for f in os.listdir(source_images_dir) if f.startswith('CRACK500')]\n",
    "\n",
    "# Randomly select 500 image files\n",
    "selected_images = random.sample(image_files, 305)"
   ]
  },
  {
   "cell_type": "code",
   "execution_count": 4,
   "metadata": {},
   "outputs": [],
   "source": [
    "for img_file in selected_images:\n",
    "    # Construct the corresponding annotation filename\n",
    "    annotation_file = img_file.replace('_leftImg8bit.png', '_gtFine_labelIds.png')\n",
    "    \n",
    "    # Source paths\n",
    "    src_img_path = os.path.join(source_images_dir, img_file)\n",
    "    src_annotation_path = os.path.join(source_annotations_dir, annotation_file)\n",
    "    \n",
    "    # Destination paths\n",
    "    dest_img_path = os.path.join(dest_images_dir, img_file)\n",
    "    dest_annotation_path = os.path.join(dest_annotations_dir, annotation_file)\n",
    "    \n",
    "    # Copy the files to the destination directory\n",
    "    shutil.copy(src_img_path, dest_img_path)\n",
    "    shutil.copy(src_annotation_path, dest_annotation_path)"
   ]
  },
  {
   "cell_type": "code",
   "execution_count": null,
   "metadata": {},
   "outputs": [],
   "source": []
  }
 ],
 "metadata": {
  "kernelspec": {
   "display_name": "Python 3.7.16 ('mmseg2')",
   "language": "python",
   "name": "python3"
  },
  "language_info": {
   "codemirror_mode": {
    "name": "ipython",
    "version": 3
   },
   "file_extension": ".py",
   "mimetype": "text/x-python",
   "name": "python",
   "nbconvert_exporter": "python",
   "pygments_lexer": "ipython3",
   "version": "3.7.16"
  },
  "orig_nbformat": 4,
  "vscode": {
   "interpreter": {
    "hash": "2086e71761e0346d1b2ba579c50f43c8a7cc145636f342809f163fcf7c3af47c"
   }
  }
 },
 "nbformat": 4,
 "nbformat_minor": 2
}
