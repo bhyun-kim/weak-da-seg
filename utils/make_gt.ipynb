{
 "cells": [
  {
   "cell_type": "code",
   "execution_count": 1,
   "metadata": {},
   "outputs": [],
   "source": [
    "import cv2\n",
    "import os\n",
    "import numpy as np"
   ]
  },
  {
   "cell_type": "code",
   "execution_count": 2,
   "metadata": {},
   "outputs": [],
   "source": [
    "# Specify the directory containing the images\n",
    "image_folder = '/home/user/WindowsShare/01. Make/04. Thesis/2024 김방현_석사학위논문/데이터/noncrack_data/deepcrack'\n",
    "gt_folder = '/home/user/WindowsShare/01. Make/04. Thesis/2024 김방현_석사학위논문/데이터/noncrack_data/deepcrack/gtFine'"
   ]
  },
  {
   "cell_type": "code",
   "execution_count": 3,
   "metadata": {},
   "outputs": [],
   "source": [
    "# List all files in the directory\n",
    "image_files = [f for f in os.listdir(image_folder) if os.path.isfile(os.path.join(image_folder, f))]"
   ]
  },
  {
   "cell_type": "code",
   "execution_count": 4,
   "metadata": {},
   "outputs": [],
   "source": [
    "# Loop through all image files\n",
    "for image_name in image_files:\n",
    "    # Construct the full image path\n",
    "    image_path = os.path.join(image_folder, image_name)\n",
    "    \n",
    "    # Load the image to get its dimensions\n",
    "    image = cv2.imread(image_path)\n",
    "    \n",
    "    # Check if the image was successfully loaded\n",
    "    if image is not None:\n",
    "        # Create a zero matrix with the same dimensions as the original image\n",
    "        zero_matrix = np.zeros_like(image)\n",
    "        \n",
    "        # Construct the new image name\n",
    "        # Assuming image_name includes an extension, we strip it and add the new suffix and extension\n",
    "        new_image_name = image_name.replace('_leftImg8bit.png', '_gtFine_labelIds.png')\n",
    "        new_image_path = os.path.join(gt_folder, new_image_name)\n",
    "        \n",
    "        # Save the zero matrix as an image\n",
    "        cv2.imwrite(new_image_path, zero_matrix)\n",
    "        # print(f\"Saved: {new_image_path}\")\n",
    "    else:\n",
    "        print(f\"Failed to load image: {image_path}\")"
   ]
  },
  {
   "cell_type": "code",
   "execution_count": null,
   "metadata": {},
   "outputs": [],
   "source": []
  }
 ],
 "metadata": {
  "kernelspec": {
   "display_name": "Python 3.7.16 ('mmseg2')",
   "language": "python",
   "name": "python3"
  },
  "language_info": {
   "codemirror_mode": {
    "name": "ipython",
    "version": 3
   },
   "file_extension": ".py",
   "mimetype": "text/x-python",
   "name": "python",
   "nbconvert_exporter": "python",
   "pygments_lexer": "ipython3",
   "version": "3.7.16"
  },
  "orig_nbformat": 4,
  "vscode": {
   "interpreter": {
    "hash": "2086e71761e0346d1b2ba579c50f43c8a7cc145636f342809f163fcf7c3af47c"
   }
  }
 },
 "nbformat": 4,
 "nbformat_minor": 2
}
