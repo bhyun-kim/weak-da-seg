{
 "cells": [
  {
   "cell_type": "code",
   "execution_count": 7,
   "metadata": {},
   "outputs": [
    {
     "name": "stdout",
     "output_type": "stream",
     "text": [
      "(1785, 2)\n",
      "[[158480   1520]\n",
      " [159271    729]\n",
      " [147941  12059]\n",
      " ...\n",
      " [159440    560]\n",
      " [158820   1180]\n",
      " [154663   5337]]\n"
     ]
    }
   ],
   "source": [
    "# read .npy file\n",
    "\n",
    "import numpy as np\n",
    "\n",
    "data = np.load('pixel_counts/crack500_s_pixel_counts.npy')\n",
    "\n",
    "print(data.shape)\n",
    "print(data)"
   ]
  },
  {
   "cell_type": "code",
   "execution_count": 3,
   "metadata": {},
   "outputs": [
    {
     "name": "stdout",
     "output_type": "stream",
     "text": [
      "533\n",
      "533\n",
      "94\n",
      "627\n"
     ]
    }
   ],
   "source": [
    "# gtFine version\n",
    "import os\n",
    "import numpy as np\n",
    "from PIL import Image\n",
    "\n",
    "# 상위 폴더 경로 설정\n",
    "parent_folder = '/home/user/WindowsShare/05. Data/00. Benchmarks/22. KhanhhaCrack/04. convert2cityscapes/gtFine'\n",
    "\n",
    "# 클래스별 픽셀 개수를 저장할 빈 NumPy 배열 생성\n",
    "class_pixel_counts = []\n",
    "\n",
    "# 상위 폴더 내의 모든 하위 폴더 리스트 가져오기\n",
    "subfolders = [f for f in os.listdir(parent_folder) if os.path.isdir(os.path.join(parent_folder, f))]\n",
    "\n",
    "size = (448,448)\n",
    "\n",
    "# 각 하위 폴더에서 이미지 처리\n",
    "for subfolder in subfolders:\n",
    "    subfolder_path = os.path.join(parent_folder, subfolder)\n",
    "\n",
    "    # 각 폴더 내의 모든 파일 리스트 가져오기\n",
    "    file_list = os.listdir(subfolder_path)\n",
    "\n",
    "    # PNG 파일만 선택\n",
    "    files = [f for f in file_list if f.startswith('CFD') or f.startswith('GAPS')]\n",
    "    print(len(files))\n",
    "\n",
    "    # 클래스별 픽셀 개수 계산 및 저장\n",
    "    for file in files:\n",
    "        # 이미지 열기\n",
    "        image = Image.open(os.path.join(subfolder_path, file))\n",
    "        image = image.resize(size, Image.NEAREST)\n",
    "\n",
    "        # 이미지를 NumPy 배열로 변환\n",
    "        img_array = np.array(image)\n",
    "\n",
    "        # 각 클래스별 픽셀 개수 세기\n",
    "        class_pixel_count = np.bincount(img_array.ravel(), minlength=2)  # 256은 픽셀 값 범위 (0-255)\n",
    "\n",
    "        # 클래스별 픽셀 개수를 class_pixel_counts에 추가\n",
    "        class_pixel_counts.append(class_pixel_count)\n",
    "\n",
    "    print(len(class_pixel_counts))\n",
    "\n",
    "# class_pixel_counts를 NumPy 배열로 변환\n",
    "result_array = np.array(class_pixel_counts)\n",
    "\n",
    "# 결과를 .npy 파일로 저장\n",
    "# np.save('pixel_counts/cfd_target_pixel_counts.npy', result_array)"
   ]
  },
  {
   "cell_type": "code",
   "execution_count": 5,
   "metadata": {},
   "outputs": [
    {
     "data": {
      "text/plain": [
       "(627, 2)"
      ]
     },
     "execution_count": 5,
     "metadata": {},
     "output_type": "execute_result"
    }
   ],
   "source": [
    "result_array.shape"
   ]
  },
  {
   "cell_type": "code",
   "execution_count": 6,
   "metadata": {},
   "outputs": [
    {
     "data": {
      "text/plain": [
       "array([[194153,   6551],\n",
       "       [197552,   3152],\n",
       "       [198060,   2644],\n",
       "       ...,\n",
       "       [194566,   6138],\n",
       "       [199332,   1372],\n",
       "       [198806,   1898]])"
      ]
     },
     "execution_count": 6,
     "metadata": {},
     "output_type": "execute_result"
    }
   ],
   "source": [
    "result_array"
   ]
  },
  {
   "cell_type": "code",
   "execution_count": 11,
   "metadata": {},
   "outputs": [],
   "source": [
    "np.save('/home/user/weak-da-seg-new/weak-da-seg/pixel_counts/road_t_pixel_counts.npy', result_array)"
   ]
  },
  {
   "cell_type": "code",
   "execution_count": 13,
   "metadata": {},
   "outputs": [
    {
     "name": "stdout",
     "output_type": "stream",
     "text": [
      "1902\n",
      "482\n",
      "(2384, 5)\n"
     ]
    }
   ],
   "source": [
    "# leftImg8bit version\n",
    "import os\n",
    "import numpy as np\n",
    "from PIL import Image\n",
    "\n",
    "# 상위 폴더 경로 설정\n",
    "parent_folder = '/home/user/WindowsShare/05. Data/02. Training&Test/013. General Concrete Damage/01. Cityscapes/v_bh/leftImg8bit'\n",
    "\n",
    "# 클래스별 픽셀 개수를 저장할 빈 NumPy 배열 생성\n",
    "class_pixel_counts = []\n",
    "\n",
    "# 상위 폴더 내의 모든 하위 폴더 리스트 가져오기\n",
    "subfolders = [f for f in os.listdir(parent_folder) if os.path.isdir(os.path.join(parent_folder, f))]\n",
    "\n",
    "size = (1024,1024)\n",
    "\n",
    "# 각 하위 폴더에서 이미지 처리\n",
    "for subfolder in subfolders:\n",
    "    subfolder_path = os.path.join(parent_folder, subfolder)\n",
    "\n",
    "    # 각 폴더 내의 모든 파일 리스트 가져오기\n",
    "    file_list = os.listdir(subfolder_path)\n",
    "\n",
    "    # 파일 선택\n",
    "    png_files = [f for f in file_list if f.endswith('_leftImg8bit.png')]\n",
    "    print(len(png_files))\n",
    "\n",
    "    subfolder_path = subfolder_path.replace('leftImg8bit', 'gtFine')\n",
    "    # print(subfolder_path)\n",
    "\n",
    "    # 클래스별 픽셀 개수 계산 및 저장\n",
    "    for png_file in png_files:\n",
    "        # 이미지 열기\n",
    "        png_file = png_file.replace('_leftImg8bit.png', '_gtFine_labelIds.png')\n",
    "        image = Image.open(os.path.join(subfolder_path, png_file))\n",
    "        image = image.resize(size, Image.NEAREST)\n",
    "\n",
    "        # 이미지를 NumPy 배열로 변환\n",
    "        img_array = np.array(image)\n",
    "\n",
    "        # Mask out the class 255\n",
    "        masked_array = np.where(img_array == 255, 0, img_array)\n",
    "\n",
    "        # 각 클래스별 픽셀 개수 세기\n",
    "        class_pixel_count = np.bincount(masked_array.ravel(), minlength=5)  # 256은 픽셀 값 범위 (0-255)\n",
    "\n",
    "        # 클래스별 픽셀 개수를 class_pixel_counts에 추가\n",
    "        class_pixel_counts.append(class_pixel_count)\n",
    "\n",
    "# class_pixel_counts를 NumPy 배열로 변환\n",
    "result_array = np.array(class_pixel_counts)\n",
    "\n",
    "print(result_array.shape)"
   ]
  },
  {
   "cell_type": "code",
   "execution_count": 14,
   "metadata": {},
   "outputs": [
    {
     "data": {
      "text/plain": [
       "array([[1047163,    1413,       0,       0,       0],\n",
       "       [1046194,    2382,       0,       0,       0],\n",
       "       [1046179,    2397,       0,       0,       0],\n",
       "       ...,\n",
       "       [1039675,    8901,       0,       0,       0],\n",
       "       [1045663,    2913,       0,       0,       0],\n",
       "       [1044725,    3851,       0,       0,       0]])"
      ]
     },
     "execution_count": 14,
     "metadata": {},
     "output_type": "execute_result"
    }
   ],
   "source": [
    "result_array"
   ]
  },
  {
   "cell_type": "code",
   "execution_count": 19,
   "metadata": {},
   "outputs": [],
   "source": [
    "np.save('/home/user/weak-da-seg-new/weak-da-seg/pixel_counts/generalcon_t_pixel_counts.npy', result_array)"
   ]
  },
  {
   "cell_type": "code",
   "execution_count": null,
   "metadata": {},
   "outputs": [],
   "source": []
  }
 ],
 "metadata": {
  "kernelspec": {
   "display_name": "Python 3.7.16 ('mmseg2')",
   "language": "python",
   "name": "python3"
  },
  "language_info": {
   "codemirror_mode": {
    "name": "ipython",
    "version": 3
   },
   "file_extension": ".py",
   "mimetype": "text/x-python",
   "name": "python",
   "nbconvert_exporter": "python",
   "pygments_lexer": "ipython3",
   "version": "3.7.16"
  },
  "orig_nbformat": 4,
  "vscode": {
   "interpreter": {
    "hash": "2086e71761e0346d1b2ba579c50f43c8a7cc145636f342809f163fcf7c3af47c"
   }
  }
 },
 "nbformat": 4,
 "nbformat_minor": 2
}
