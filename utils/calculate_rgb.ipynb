{
 "cells": [
  {
   "cell_type": "code",
   "execution_count": 3,
   "metadata": {},
   "outputs": [
    {
     "name": "stderr",
     "output_type": "stream",
     "text": [
      "100%|██████████| 118/118 [00:02<00:00, 49.03it/s]"
     ]
    },
    {
     "name": "stdout",
     "output_type": "stream",
     "text": [
      "[129.57191 133.68655 138.8288 ] [12.990257 12.666413 12.723719]\n"
     ]
    },
    {
     "name": "stderr",
     "output_type": "stream",
     "text": [
      "\n"
     ]
    }
   ],
   "source": [
    "import cv2\n",
    "import numpy as np\n",
    "import glob\n",
    "from tqdm import tqdm\n",
    "import os\n",
    "\n",
    "# 이미지 데이터셋이 있는 디렉토리 경로\n",
    "dataset_dir1 = '/home/user/WindowsShare/05. Data/00. Benchmarks/22. KhanhhaCrack/04. convert2cityscapes/leftImg8bit/train'\n",
    "dataset_dir2 = '/home/user/WindowsShare/05. Data/00. Benchmarks/22. KhanhhaCrack/04. convert2cityscapes/leftImg8bit/val'\n",
    "\n",
    "# 이미지 파일 목록\n",
    "image_files1 = [os.path.join(dataset_dir1, filename) for filename in os.listdir(dataset_dir1) if filename.startswith('CFD')]\n",
    "image_files2 = [os.path.join(dataset_dir2, filename) for filename in os.listdir(dataset_dir2) if filename.startswith('CFD')]\n",
    "image_files = image_files1 + image_files2\n",
    "\n",
    "img_norm = list()\n",
    "img_std = list()\n",
    "for data in tqdm(image_files):\n",
    "    img = cv2.imread(data, cv2.IMREAD_COLOR)\n",
    "    img = cv2.cvtColor(img, cv2.COLOR_BGR2RGB).astype(np.float32)\n",
    "    if len(img.shape) <2: # 흑백 이미지는 제외\n",
    "        continue\n",
    "    mean,std = np.mean(img, axis=(0,1)), np.std(img, axis=(0,1))\n",
    "    img_norm.append(mean)\n",
    "    img_std.append(std)\n",
    "\n",
    "print(np.mean(img_norm, axis=0), np.mean(img_std, axis=0))"
   ]
  },
  {
   "cell_type": "code",
   "execution_count": null,
   "metadata": {},
   "outputs": [],
   "source": []
  },
  {
   "cell_type": "code",
   "execution_count": 3,
   "metadata": {},
   "outputs": [
    {
     "name": "stdout",
     "output_type": "stream",
     "text": [
      "평균(Mean): [120.11962108 130.6978745  137.02111115]\n",
      "표준 편차(Standard Deviation): [39.03891851 34.82510309 34.42971648]\n"
     ]
    }
   ],
   "source": [
    "# 이미지 데이터셋이 있는 디렉토리 경로\n",
    "dataset_dir1 = '/home/user/WindowsShare/05. Data/00. Benchmarks/27. crackseg9k/convert2cityscapes/leftImg8bit/train'\n",
    "dataset_dir2 = '/home/user/WindowsShare/05. Data/00. Benchmarks/27. crackseg9k/convert2cityscapes/leftImg8bit/val'\n",
    "\n",
    "# 이미지 파일 목록\n",
    "image_files1 = [os.path.join(dataset_dir1, filename) for filename in os.listdir(dataset_dir1) if filename.startswith('Rissbilder') or filename.startswith('noncrack')]\n",
    "image_files2 = [os.path.join(dataset_dir2, filename) for filename in os.listdir(dataset_dir2) if filename.startswith('Rissbilder')]\n",
    "image_files = image_files1 + image_files2\n",
    "\n",
    "# 이미지 데이터를 저장할 리스트\n",
    "image_data = []\n",
    "\n",
    "# 이미지 파일을 읽어와서 리스트에 추가\n",
    "for image_file in image_files:\n",
    "    image = cv2.imread(image_file)\n",
    "    image = cv2.cvtColor(image, cv2.COLOR_BGR2RGB)  # 이미지를 RGB 형식으로 변환\n",
    "    image_data.append(image)\n",
    "\n",
    "# 이미지 데이터를 NumPy 배열로 변환\n",
    "image_data = np.array(image_data)\n",
    "\n",
    "# 각 채널(예: RGB)에 대한 평균과 표준 편차 계산\n",
    "mean = np.mean(image_data, axis=(0, 1, 2))\n",
    "std = np.std(image_data, axis=(0, 1, 2))\n",
    "\n",
    "# 결과 출력\n",
    "print(\"평균(Mean):\", mean)\n",
    "print(\"표준 편차(Standard Deviation):\", std)"
   ]
  },
  {
   "cell_type": "code",
   "execution_count": null,
   "metadata": {},
   "outputs": [],
   "source": []
  }
 ],
 "metadata": {
  "kernelspec": {
   "display_name": "Python 3.7.16 ('mmseg2')",
   "language": "python",
   "name": "python3"
  },
  "language_info": {
   "codemirror_mode": {
    "name": "ipython",
    "version": 3
   },
   "file_extension": ".py",
   "mimetype": "text/x-python",
   "name": "python",
   "nbconvert_exporter": "python",
   "pygments_lexer": "ipython3",
   "version": "3.7.16"
  },
  "orig_nbformat": 4,
  "vscode": {
   "interpreter": {
    "hash": "2086e71761e0346d1b2ba579c50f43c8a7cc145636f342809f163fcf7c3af47c"
   }
  }
 },
 "nbformat": 4,
 "nbformat_minor": 2
}
